{
 "cells": [
  {
   "cell_type": "markdown",
   "id": "atlantic-wages",
   "metadata": {},
   "source": [
    "https://github.com/sa46lll/WebScraping_selenium/tree/master/webscraping_basic"
   ]
  },
  {
   "cell_type": "code",
   "execution_count": 1,
   "id": "moderate-expense",
   "metadata": {},
   "outputs": [],
   "source": [
    "import requests\n",
    "import re\n",
    "from bs4 import BeautifulSoup\n",
    "\n",
    "url = \"https://www.coupang.com/np/search?q=%EB%85%B8%ED%8A%B8%EB%B6%81&channel=user&component=&eventCategory=SRP&trcid=&traid=&sorter=scoreDesc&minPrice=&maxPrice=&priceRange=&filterType=&listSize=36&filter=&isPriceRange=false&brand=&offerCondition=&rating=0&page=1&rocketAll=false&searchIndexingToken=1=4&backgroundColor=\"\n",
    "headers = {\"User-Agent\":\"Mozilla/5.0 (Windows NT 10.0; Win64; x64) AppleWebKit/537.36 (KHTML, like Gecko) Chrome/91.0.4472.77 Safari/537.36\"}\n",
    "res = requests.get(url, headers=headers)\n",
    "res.raise_for_status()\n",
    "soup = BeautifulSoup(res.text, \"lxml\")"
   ]
  },
  {
   "cell_type": "code",
   "execution_count": 2,
   "id": "introductory-comparative",
   "metadata": {},
   "outputs": [],
   "source": [
    "# print(res.text)\n",
    "items = soup.find_all(\"li\", attrs={\"class\" : re.compile(\"^search-product\")}) # search_product 로 시작하는 모든 \"li\" element\n",
    "# print(items[0].find(\"div\", attrs={\"class\" : \"name\"}).get_text())"
   ]
  },
  {
   "cell_type": "code",
   "execution_count": 3,
   "id": "frequent-faculty",
   "metadata": {},
   "outputs": [],
   "source": [
    "import pandas as pd\n",
    "\n",
    "df = pd.DataFrame()"
   ]
  },
  {
   "cell_type": "code",
   "execution_count": 16,
   "id": "photographic-intensity",
   "metadata": {},
   "outputs": [],
   "source": [
    "for item in items:\n",
    "    #print(item)\n",
    "    try:\n",
    "\n",
    "        name = item.find(\"div\", attrs={\"class\" : \"name\"}).get_text() # 제품명\n",
    "        price = item.find(\"strong\", attrs={\"class\" : \"price-value\"}).get_text() # 가격\n",
    "\n",
    "        row = {'name':name, 'price':price}\n",
    "        df =df.append(row,ignore_index=True)\n",
    "    \n",
    "    except:\n",
    "        pass"
   ]
  },
  {
   "cell_type": "code",
   "execution_count": 17,
   "id": "mighty-merchant",
   "metadata": {},
   "outputs": [
    {
     "data": {
      "text/html": [
       "<div>\n",
       "<style scoped>\n",
       "    .dataframe tbody tr th:only-of-type {\n",
       "        vertical-align: middle;\n",
       "    }\n",
       "\n",
       "    .dataframe tbody tr th {\n",
       "        vertical-align: top;\n",
       "    }\n",
       "\n",
       "    .dataframe thead th {\n",
       "        text-align: right;\n",
       "    }\n",
       "</style>\n",
       "<table border=\"1\" class=\"dataframe\">\n",
       "  <thead>\n",
       "    <tr style=\"text-align: right;\">\n",
       "      <th></th>\n",
       "      <th>name</th>\n",
       "      <th>price</th>\n",
       "    </tr>\n",
       "  </thead>\n",
       "  <tbody>\n",
       "    <tr>\n",
       "      <th>0</th>\n",
       "      <td>삼성전자 2021 플러스2 15.6, 블레이드 블랙, 코어i7 11세대, 512GB...</td>\n",
       "      <td>1,599,000</td>\n",
       "    </tr>\n",
       "    <tr>\n",
       "      <th>1</th>\n",
       "      <td>삼성전자 2021 노트북 플러스2 15.6, 미스틱 그레이, 셀러론, 128GB, ...</td>\n",
       "      <td>598,000</td>\n",
       "    </tr>\n",
       "    <tr>\n",
       "      <th>2</th>\n",
       "      <td>LG전자 2020 울트라 PC 14, 화이트, 셀러론, 128GB, 4GB, WIN...</td>\n",
       "      <td>448,000</td>\n",
       "    </tr>\n",
       "    <tr>\n",
       "      <th>3</th>\n",
       "      <td>레노버 2021 GAMING 3 15ACH R5, 쉐도우 블랙, 라이젠5 4세대, ...</td>\n",
       "      <td>1,021,000</td>\n",
       "    </tr>\n",
       "    <tr>\n",
       "      <th>4</th>\n",
       "      <td>삼성전자 2021 갤럭시북 프로 15.6, 미스틱 실버, 코어i7 11세대, 102...</td>\n",
       "      <td>1,979,000</td>\n",
       "    </tr>\n",
       "    <tr>\n",
       "      <th>...</th>\n",
       "      <td>...</td>\n",
       "      <td>...</td>\n",
       "    </tr>\n",
       "    <tr>\n",
       "      <th>67</th>\n",
       "      <td>HP 2021 노트북 15s, 스노우 화이트, 코어i3 11세대, 256GB, 4G...</td>\n",
       "      <td>549,000</td>\n",
       "    </tr>\n",
       "    <tr>\n",
       "      <th>68</th>\n",
       "      <td>에이수스 2021 TUF Gaming F15, 이클립스 그레이, 코어i5 11세대,...</td>\n",
       "      <td>995,820</td>\n",
       "    </tr>\n",
       "    <tr>\n",
       "      <th>69</th>\n",
       "      <td>HP 2021 노트북 15s, 내츄럴 실버, 코어i3 10세대, 128GB, 4GB...</td>\n",
       "      <td>445,000</td>\n",
       "    </tr>\n",
       "    <tr>\n",
       "      <th>70</th>\n",
       "      <td>삼성전자 2021 노트북 플러스2 15.6, 퓨어 화이트, 셀러론, 378GB, 8...</td>\n",
       "      <td>598,000</td>\n",
       "    </tr>\n",
       "    <tr>\n",
       "      <th>71</th>\n",
       "      <td>레노버 2020 YOGA 7 14ITL + 레노버 액티브 펜, 슬레이트 그레이, 코...</td>\n",
       "      <td>1,070,000</td>\n",
       "    </tr>\n",
       "  </tbody>\n",
       "</table>\n",
       "<p>72 rows × 2 columns</p>\n",
       "</div>"
      ],
      "text/plain": [
       "                                                 name      price\n",
       "0   삼성전자 2021 플러스2 15.6, 블레이드 블랙, 코어i7 11세대, 512GB...  1,599,000\n",
       "1   삼성전자 2021 노트북 플러스2 15.6, 미스틱 그레이, 셀러론, 128GB, ...    598,000\n",
       "2   LG전자 2020 울트라 PC 14, 화이트, 셀러론, 128GB, 4GB, WIN...    448,000\n",
       "3   레노버 2021 GAMING 3 15ACH R5, 쉐도우 블랙, 라이젠5 4세대, ...  1,021,000\n",
       "4   삼성전자 2021 갤럭시북 프로 15.6, 미스틱 실버, 코어i7 11세대, 102...  1,979,000\n",
       "..                                                ...        ...\n",
       "67  HP 2021 노트북 15s, 스노우 화이트, 코어i3 11세대, 256GB, 4G...    549,000\n",
       "68  에이수스 2021 TUF Gaming F15, 이클립스 그레이, 코어i5 11세대,...    995,820\n",
       "69  HP 2021 노트북 15s, 내츄럴 실버, 코어i3 10세대, 128GB, 4GB...    445,000\n",
       "70  삼성전자 2021 노트북 플러스2 15.6, 퓨어 화이트, 셀러론, 378GB, 8...    598,000\n",
       "71  레노버 2020 YOGA 7 14ITL + 레노버 액티브 펜, 슬레이트 그레이, 코...  1,070,000\n",
       "\n",
       "[72 rows x 2 columns]"
      ]
     },
     "execution_count": 17,
     "metadata": {},
     "output_type": "execute_result"
    }
   ],
   "source": [
    "df"
   ]
  },
  {
   "cell_type": "code",
   "execution_count": null,
   "id": "diverse-examination",
   "metadata": {},
   "outputs": [],
   "source": []
  }
 ],
 "metadata": {
  "kernelspec": {
   "display_name": "Python 3",
   "language": "python",
   "name": "python3"
  },
  "language_info": {
   "codemirror_mode": {
    "name": "ipython",
    "version": 3
   },
   "file_extension": ".py",
   "mimetype": "text/x-python",
   "name": "python",
   "nbconvert_exporter": "python",
   "pygments_lexer": "ipython3",
   "version": "3.7.0"
  }
 },
 "nbformat": 4,
 "nbformat_minor": 5
}
