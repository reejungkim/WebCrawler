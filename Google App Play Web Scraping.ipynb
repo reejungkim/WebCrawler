{
 "cells": [
  {
   "cell_type": "code",
   "execution_count": 1,
   "id": "czech-secretary",
   "metadata": {},
   "outputs": [],
   "source": [
    "import time\n",
    "from bs4 import BeautifulSoup\n",
    "import sys, io\n",
    "from selenium import webdriver\n",
    "from selenium.webdriver.support.ui import WebDriverWait\n",
    "from selenium.webdriver.common.proxy import *"
   ]
  },
  {
   "cell_type": "code",
   "execution_count": 2,
   "id": "guided-calculator",
   "metadata": {},
   "outputs": [],
   "source": [
    "no_of_reviews = 10000\n",
    "\n",
    "non_bmp_map = dict.fromkeys(range(0x10000, sys.maxunicode + 1), 0xfffd)\n",
    "driver = webdriver.Chrome(\"/Users/reejungkim/Downloads/chromedriver\")\n",
    "\n",
    "wait = WebDriverWait( driver, 10 )"
   ]
  },
  {
   "cell_type": "code",
   "execution_count": 3,
   "id": "phantom-saturn",
   "metadata": {},
   "outputs": [],
   "source": [
    "#Append your app store urls here\n",
    "urls = [\"https://play.google.com/store/apps/details?id=com.facebook.katana\"]"
   ]
  },
  {
   "cell_type": "code",
   "execution_count": 4,
   "id": "allied-aviation",
   "metadata": {},
   "outputs": [],
   "source": [
    "import pandas as pd\n",
    "df = pd.DataFrame()"
   ]
  },
  {
   "cell_type": "code",
   "execution_count": 5,
   "id": "spoken-kelly",
   "metadata": {
    "scrolled": true
   },
   "outputs": [
    {
     "name": "stdout",
     "output_type": "stream",
     "text": [
      "CPU times: user 1.14 s, sys: 26.2 ms, total: 1.16 s\n",
      "Wall time: 19.8 s\n"
     ]
    }
   ],
   "source": [
    "%%time\n",
    "\n",
    "for url in urls:\n",
    "\n",
    "    driver.get(url)\n",
    "\n",
    "    page = driver.page_source\n",
    "\n",
    "    soup_expatistan = BeautifulSoup(page, \"html.parser\")\n",
    "\n",
    "    # open all reviews\n",
    "    url = url+'&showAllReviews=true'\n",
    "    driver.get(url)\n",
    "    time.sleep(5) # wait dom ready\n",
    "    for i in range(1,10):\n",
    "        driver.execute_script('window.scrollTo(0, document.body.scrollHeight);')#scroll to load other reviews\n",
    "        time.sleep(1)\n",
    "    page = driver.page_source\n",
    "\n",
    "    soup_expatistan = BeautifulSoup(page, \"html.parser\")\n",
    "    expand_pages = soup_expatistan.findAll(\"div\", class_=\"d15Mdf\")\n",
    "    counter = 1\n",
    "    for expand_page in expand_pages:\n",
    "        try:\n",
    "            \n",
    "            author = str(expand_page.find(\"span\", class_=\"X43Kjb\").text)\n",
    "            review_date = expand_page.find(\"span\", class_=\"p2TkOb\").text\n",
    "            \n",
    "            reviewer_ratings = expand_page.find(\"div\", class_=\"jUL89d y92BAb\").text\n",
    "            #print(\"Reviewer Ratings: \", reviewer_ratings)\n",
    "\n",
    "            review_body = str(expand_page.find(\"div\", class_=\"UD7Dzf\").text)\n",
    "            #print(\"Review Body: \", review_body)\n",
    "            \n",
    "            star = expand_page.find(\"div\", class_=\"pf5lIe\").find_next()['aria-label']\n",
    "            \n",
    "            developer_reply = expand_page.find_parent().find(\"div\", class_=\"LVQB0b\")\n",
    "\n",
    "            new_row = {'author':author, 'review_date':review_date, \n",
    "                       'reviewer_ratings':reviewer_ratings, 'review':review_body, 'star':star,\n",
    "                       'developer_reply': developer_reply\n",
    "                }\n",
    "            df = df.append(new_row, ignore_index=True)\n",
    "\n",
    "            counter+=1\n",
    "        except:\n",
    "            pass\n",
    "driver.quit()"
   ]
  },
  {
   "cell_type": "code",
   "execution_count": 8,
   "id": "tribal-supplier",
   "metadata": {},
   "outputs": [],
   "source": [
    "import datetime as dt\n",
    "timestamp = dt.datetime.today().strftime('%Y-%m-%d-%H:%m:%S')"
   ]
  },
  {
   "cell_type": "code",
   "execution_count": 9,
   "id": "compound-support",
   "metadata": {},
   "outputs": [],
   "source": [
    "file_name = 'GooglePlayStore_Review_' + timestamp + '.csv'"
   ]
  },
  {
   "cell_type": "code",
   "execution_count": 10,
   "id": "generous-introduction",
   "metadata": {},
   "outputs": [],
   "source": [
    "df.to_csv(file_name, index = True)"
   ]
  },
  {
   "cell_type": "markdown",
   "id": "developmental-milton",
   "metadata": {},
   "source": [
    "driver.quit()"
   ]
  },
  {
   "cell_type": "code",
   "execution_count": null,
   "id": "experimental-watershed",
   "metadata": {},
   "outputs": [],
   "source": []
  }
 ],
 "metadata": {
  "kernelspec": {
   "display_name": "Python 3",
   "language": "python",
   "name": "python3"
  },
  "language_info": {
   "codemirror_mode": {
    "name": "ipython",
    "version": 3
   },
   "file_extension": ".py",
   "mimetype": "text/x-python",
   "name": "python",
   "nbconvert_exporter": "python",
   "pygments_lexer": "ipython3",
   "version": "3.7.0"
  }
 },
 "nbformat": 4,
 "nbformat_minor": 5
}
