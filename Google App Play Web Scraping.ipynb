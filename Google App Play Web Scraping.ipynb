{
 "cells": [
  {
   "cell_type": "code",
   "execution_count": 1,
   "id": "curious-ethernet",
   "metadata": {},
   "outputs": [],
   "source": [
    "import time\n",
    "from bs4 import BeautifulSoup\n",
    "import sys, io\n",
    "from selenium import webdriver\n",
    "from selenium.webdriver.support.ui import WebDriverWait\n",
    "from selenium.webdriver.common.proxy import *"
   ]
  },
  {
   "cell_type": "code",
   "execution_count": 2,
   "id": "better-prisoner",
   "metadata": {},
   "outputs": [],
   "source": [
    "no_of_reviews = 10000\n",
    "\n",
    "non_bmp_map = dict.fromkeys(range(0x10000, sys.maxunicode + 1), 0xfffd)\n",
    "driver = webdriver.Chrome(\"/Users/reejungkim/Downloads/chromedriver\")\n",
    "\n",
    "wait = WebDriverWait( driver, 10 )"
   ]
  },
  {
   "cell_type": "code",
   "execution_count": 3,
   "id": "supported-bible",
   "metadata": {},
   "outputs": [],
   "source": [
    "#Append your app store urls here\n",
    "urls = [\"https://play.google.com/store/apps/details?id=com.kakaobank.channel&hl=ko&showAllReviews=true\"]"
   ]
  },
  {
   "cell_type": "code",
   "execution_count": 4,
   "id": "female-springfield",
   "metadata": {},
   "outputs": [],
   "source": [
    "import pandas as pd\n",
    "df = pd.DataFrame()"
   ]
  },
  {
   "cell_type": "code",
   "execution_count": 5,
   "id": "mineral-television",
   "metadata": {
    "scrolled": true
   },
   "outputs": [
    {
     "name": "stdout",
     "output_type": "stream",
     "text": [
      "CPU times: user 1.12 s, sys: 30.1 ms, total: 1.15 s\n",
      "Wall time: 20.1 s\n"
     ]
    }
   ],
   "source": [
    "%%time\n",
    "\n",
    "for url in urls:\n",
    "\n",
    "    driver.get(url)\n",
    "\n",
    "    page = driver.page_source\n",
    "\n",
    "    soup_expatistan = BeautifulSoup(page, \"html.parser\")\n",
    "\n",
    "    # open all reviews\n",
    "    url = url+'&showAllReviews=true'\n",
    "    driver.get(url)\n",
    "    time.sleep(5) # wait dom ready\n",
    "    for i in range(1,10):\n",
    "        driver.execute_script('window.scrollTo(0, document.body.scrollHeight);')#scroll to load other reviews\n",
    "        time.sleep(1)\n",
    "    page = driver.page_source\n",
    "\n",
    "    soup_expatistan = BeautifulSoup(page, \"html.parser\")\n",
    "    expand_pages = soup_expatistan.findAll(\"div\", class_=\"d15Mdf\")\n",
    "    counter = 1\n",
    "    for expand_page in expand_pages:\n",
    "        try:\n",
    "            \n",
    "            author = str(expand_page.find(\"span\", class_=\"X43Kjb\").text)\n",
    "            review_date = expand_page.find(\"span\", class_=\"p2TkOb\").text\n",
    "            \n",
    "            reviewer_ratings = expand_page.find(\"div\", class_=\"jUL89d y92BAb\").text\n",
    "            #print(\"Reviewer Ratings: \", reviewer_ratings)\n",
    "\n",
    "            review_body = str(expand_page.find(\"div\", class_=\"UD7Dzf\").text)\n",
    "            #print(\"Review Body: \", review_body)\n",
    "            \n",
    "            star = expand_page.find(\"div\", class_=\"pf5lIe\").find_next()['aria-label']\n",
    "            \n",
    "            developer_reply = expand_page.find_parent().find(\"div\", class_=\"LVQB0b\")\n",
    "\n",
    "            new_row = {'author':author, 'review_date':review_date, \n",
    "                       'reviewer_ratings':reviewer_ratings, 'review':review_body, 'star':star,\n",
    "                       'developer_reply': developer_reply\n",
    "                }\n",
    "            df = df.append(new_row, ignore_index=True)\n",
    "\n",
    "            counter+=1\n",
    "        except:\n",
    "            pass\n",
    "driver.quit()"
   ]
  },
  {
   "cell_type": "code",
   "execution_count": 6,
   "id": "satisfied-carry",
   "metadata": {},
   "outputs": [
    {
     "data": {
      "text/plain": [
       "'38'"
      ]
     },
     "execution_count": 6,
     "metadata": {},
     "output_type": "execute_result"
    }
   ],
   "source": [
    "reviewer_ratings"
   ]
  },
  {
   "cell_type": "code",
   "execution_count": 7,
   "id": "jewish-serum",
   "metadata": {},
   "outputs": [
    {
     "data": {
      "text/html": [
       "<div>\n",
       "<style scoped>\n",
       "    .dataframe tbody tr th:only-of-type {\n",
       "        vertical-align: middle;\n",
       "    }\n",
       "\n",
       "    .dataframe tbody tr th {\n",
       "        vertical-align: top;\n",
       "    }\n",
       "\n",
       "    .dataframe thead th {\n",
       "        text-align: right;\n",
       "    }\n",
       "</style>\n",
       "<table border=\"1\" class=\"dataframe\">\n",
       "  <thead>\n",
       "    <tr style=\"text-align: right;\">\n",
       "      <th></th>\n",
       "      <th>author</th>\n",
       "      <th>developer_reply</th>\n",
       "      <th>review</th>\n",
       "      <th>review_date</th>\n",
       "      <th>reviewer_ratings</th>\n",
       "      <th>star</th>\n",
       "    </tr>\n",
       "  </thead>\n",
       "  <tbody>\n",
       "    <tr>\n",
       "      <th>0</th>\n",
       "      <td>풀메탈</td>\n",
       "      <td>None</td>\n",
       "      <td>저는 잘 사용하고 있어요. 근데 건의할게 있어요. 이체할때 실시간 잔금이 나오면 ...</td>\n",
       "      <td>2021년 2월 21일</td>\n",
       "      <td>9</td>\n",
       "      <td>별표 5개 만점에 4개를 받았습니다.</td>\n",
       "    </tr>\n",
       "    <tr>\n",
       "      <th>1</th>\n",
       "      <td>김영후</td>\n",
       "      <td>None</td>\n",
       "      <td>자주쓰는 계좌 등록이 없어서 매달.새로작성. 관리비,세금. 국세 자동이체는 전혀안...</td>\n",
       "      <td>2021년 2월 22일</td>\n",
       "      <td>7</td>\n",
       "      <td>별표 5개 만점에 2개를 받았습니다.</td>\n",
       "    </tr>\n",
       "    <tr>\n",
       "      <th>2</th>\n",
       "      <td>혜지</td>\n",
       "      <td>None</td>\n",
       "      <td>모바일 앱 로그인이 되지않아 고객센터 안내 받아 앱 삭제후 재설치하는데 재설치 조...</td>\n",
       "      <td>2021년 2월 7일</td>\n",
       "      <td>80</td>\n",
       "      <td>별표 5개 만점에 1개를 받았습니다.</td>\n",
       "    </tr>\n",
       "    <tr>\n",
       "      <th>3</th>\n",
       "      <td>PrADᅡ KᅵllᄐR</td>\n",
       "      <td>None</td>\n",
       "      <td>계좌송금시, 금액부터 적는게 아니라 받을사람 계좌정보부터 쓰고 확인한 후에 보낼 ...</td>\n",
       "      <td>2021년 2월 14일</td>\n",
       "      <td>56</td>\n",
       "      <td>별표 5개 만점에 3개를 받았습니다.</td>\n",
       "    </tr>\n",
       "    <tr>\n",
       "      <th>4</th>\n",
       "      <td>김수현</td>\n",
       "      <td>None</td>\n",
       "      <td>갤럭시 s10 사용자입니다 갤럭시 업데이트 이후 아무것도 안 되네요ㅠㅠ 리뷰 보니...</td>\n",
       "      <td>2021년 2월 23일</td>\n",
       "      <td>0</td>\n",
       "      <td>별표 5개 만점에 1개를 받았습니다.</td>\n",
       "    </tr>\n",
       "  </tbody>\n",
       "</table>\n",
       "</div>"
      ],
      "text/plain": [
       "         author developer_reply  \\\n",
       "0           풀메탈            None   \n",
       "1           김영후            None   \n",
       "2            혜지            None   \n",
       "3  PrADᅡ KᅵllᄐR            None   \n",
       "4           김수현            None   \n",
       "\n",
       "                                              review   review_date  \\\n",
       "0   저는 잘 사용하고 있어요. 근데 건의할게 있어요. 이체할때 실시간 잔금이 나오면 ...  2021년 2월 21일   \n",
       "1   자주쓰는 계좌 등록이 없어서 매달.새로작성. 관리비,세금. 국세 자동이체는 전혀안...  2021년 2월 22일   \n",
       "2   모바일 앱 로그인이 되지않아 고객센터 안내 받아 앱 삭제후 재설치하는데 재설치 조...   2021년 2월 7일   \n",
       "3   계좌송금시, 금액부터 적는게 아니라 받을사람 계좌정보부터 쓰고 확인한 후에 보낼 ...  2021년 2월 14일   \n",
       "4   갤럭시 s10 사용자입니다 갤럭시 업데이트 이후 아무것도 안 되네요ㅠㅠ 리뷰 보니...  2021년 2월 23일   \n",
       "\n",
       "  reviewer_ratings                  star  \n",
       "0                9  별표 5개 만점에 4개를 받았습니다.  \n",
       "1                7  별표 5개 만점에 2개를 받았습니다.  \n",
       "2               80  별표 5개 만점에 1개를 받았습니다.  \n",
       "3               56  별표 5개 만점에 3개를 받았습니다.  \n",
       "4                0  별표 5개 만점에 1개를 받았습니다.  "
      ]
     },
     "execution_count": 7,
     "metadata": {},
     "output_type": "execute_result"
    }
   ],
   "source": [
    "df.head() "
   ]
  },
  {
   "cell_type": "code",
   "execution_count": 8,
   "id": "impossible-burden",
   "metadata": {},
   "outputs": [],
   "source": [
    "import datetime as dt\n",
    "timestamp = dt.datetime.today().strftime('%Y-%m-%d-%H:%m:%S')"
   ]
  },
  {
   "cell_type": "code",
   "execution_count": 9,
   "id": "intelligent-photograph",
   "metadata": {},
   "outputs": [],
   "source": [
    "file_name = 'GooglePlayStore_Review_' + timestamp + '.csv'"
   ]
  },
  {
   "cell_type": "code",
   "execution_count": 10,
   "id": "hidden-dream",
   "metadata": {},
   "outputs": [],
   "source": [
    "df.to_csv(file_name, index = True)"
   ]
  },
  {
   "cell_type": "markdown",
   "id": "complicated-tackle",
   "metadata": {},
   "source": [
    "driver.quit()"
   ]
  },
  {
   "cell_type": "code",
   "execution_count": null,
   "id": "daily-treatment",
   "metadata": {},
   "outputs": [],
   "source": []
  }
 ],
 "metadata": {
  "kernelspec": {
   "display_name": "Python 3",
   "language": "python",
   "name": "python3"
  },
  "language_info": {
   "codemirror_mode": {
    "name": "ipython",
    "version": 3
   },
   "file_extension": ".py",
   "mimetype": "text/x-python",
   "name": "python",
   "nbconvert_exporter": "python",
   "pygments_lexer": "ipython3",
   "version": "3.7.0"
  }
 },
 "nbformat": 4,
 "nbformat_minor": 5
}
