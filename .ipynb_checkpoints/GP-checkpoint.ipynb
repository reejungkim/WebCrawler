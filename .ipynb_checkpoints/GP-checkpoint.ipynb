{
 "cells": [
  {
   "cell_type": "code",
   "execution_count": 10,
   "id": "51774ba2",
   "metadata": {},
   "outputs": [],
   "source": [
    "# 원하는 앱 선택\n",
    "lang='ko'\n",
    "cont='kr'\n",
    "loc = 'kr.co.twinspace'"
   ]
  },
  {
   "cell_type": "code",
   "execution_count": 11,
   "id": "27d1f064",
   "metadata": {},
   "outputs": [],
   "source": [
    "# BeautifulSoup을 이용한 Google PlayStore 앱 소개 페이지 HTML 파싱 함수\n",
    "import requests\n",
    "from bs4 import BeautifulSoup\n",
    "\n",
    "def crawler(lang, cont, loc):\n",
    "    url = 'https://play.google.com/store/apps/details?id='+loc+'&hl='+lang+'&gl='+cont\n",
    "    response = requests.get(url)\n",
    "    soup = BeautifulSoup(response.text, 'html.parser')\n",
    "    return (soup)"
   ]
  },
  {
   "cell_type": "markdown",
   "id": "6e60906a",
   "metadata": {},
   "source": [
    "https://play.google.com/store/apps/details?id=kr.co.welcomebank.omb&hl=ko&gl=US&showAllReviews=true"
   ]
  },
  {
   "cell_type": "code",
   "execution_count": 12,
   "id": "d06ee2ca",
   "metadata": {},
   "outputs": [],
   "source": [
    "# 패키지를 이용한 전체 리뷰 크롤링 함수\n",
    "#! pip install google_play_scraper\n",
    "from google_play_scraper import reviews, Sort\n",
    "\n",
    "review_all, _ = reviews(\n",
    "    loc,\n",
    "    lang=lang, # defaults to 'en'\n",
    "    country=cont, # defaults to 'us'\n",
    "    sort=Sort.NEWEST, # defaults to Sort.MOST_RELEVANT\n",
    "    #count=3, # defaults to 100\n",
    "    filter_score_with=None # defaults to None(means all score)\n",
    ")\n",
    "review = str(len(review_all))"
   ]
  },
  {
   "cell_type": "code",
   "execution_count": 13,
   "id": "bfb73083",
   "metadata": {},
   "outputs": [
    {
     "ename": "AttributeError",
     "evalue": "'NoneType' object has no attribute 'text'",
     "output_type": "error",
     "traceback": [
      "\u001b[0;31m---------------------------------------------------------------------------\u001b[0m",
      "\u001b[0;31mAttributeError\u001b[0m                            Traceback (most recent call last)",
      "\u001b[0;32m/var/folders/l6/22wjv97x2yq_lzg77lp74ml40000gn/T/ipykernel_1183/451474648.py\u001b[0m in \u001b[0;36m<module>\u001b[0;34m\u001b[0m\n\u001b[1;32m      2\u001b[0m \u001b[0;34m\u001b[0m\u001b[0m\n\u001b[1;32m      3\u001b[0m \u001b[0msoup\u001b[0m \u001b[0;34m=\u001b[0m \u001b[0mcrawler\u001b[0m\u001b[0;34m(\u001b[0m\u001b[0mlang\u001b[0m\u001b[0;34m,\u001b[0m \u001b[0mcont\u001b[0m\u001b[0;34m,\u001b[0m \u001b[0mloc\u001b[0m\u001b[0;34m)\u001b[0m\u001b[0;34m\u001b[0m\u001b[0;34m\u001b[0m\u001b[0m\n\u001b[0;32m----> 4\u001b[0;31m \u001b[0mratings\u001b[0m \u001b[0;34m=\u001b[0m \u001b[0msoup\u001b[0m\u001b[0;34m.\u001b[0m\u001b[0mfind\u001b[0m\u001b[0;34m(\u001b[0m\u001b[0;34m'span'\u001b[0m\u001b[0;34m,\u001b[0m\u001b[0;34m'EymY4b'\u001b[0m\u001b[0;34m)\u001b[0m\u001b[0;34m.\u001b[0m\u001b[0mtext\u001b[0m\u001b[0;34m\u001b[0m\u001b[0;34m\u001b[0m\u001b[0m\n\u001b[0m\u001b[1;32m      5\u001b[0m \u001b[0maverage\u001b[0m \u001b[0;34m=\u001b[0m \u001b[0msoup\u001b[0m\u001b[0;34m.\u001b[0m\u001b[0mfindAll\u001b[0m\u001b[0;34m(\u001b[0m\u001b[0;34m'div'\u001b[0m\u001b[0;34m,\u001b[0m \u001b[0;34m'BHMmbe'\u001b[0m\u001b[0;34m)\u001b[0m\u001b[0;34m[\u001b[0m\u001b[0;36m0\u001b[0m\u001b[0;34m]\u001b[0m\u001b[0;34m.\u001b[0m\u001b[0mstring\u001b[0m\u001b[0;34m\u001b[0m\u001b[0;34m\u001b[0m\u001b[0m\n\u001b[1;32m      6\u001b[0m \u001b[0;34m\u001b[0m\u001b[0m\n",
      "\u001b[0;31mAttributeError\u001b[0m: 'NoneType' object has no attribute 'text'"
     ]
    }
   ],
   "source": [
    "# 필요한 정보만 선별 및 조건에 따른 액션 수행\n",
    "\n",
    "soup = crawler(lang, cont, loc)\n",
    "ratings = soup.find('span','EymY4b').text\n",
    "average = soup.findAll('div', 'BHMmbe')[0].string\n",
    "\n",
    "msg =  \"[Google Play store] 평점 : \"+ average + \" / 평가개수 : \"+ ratings + \" / 리뷰개수 : \"+ review\n",
    "myTeamsMessage.text(msg)\n",
    "myTeamsMessage.send()\n",
    "\n",
    "for i in range(0,len(review_all)):\n",
    "    if review_all[i]['replyContent'] != None:\n",
    "        pass\n",
    "    else:\n",
    "        score = str(review_all[i]['score'])\n",
    "        userid = review_all[i]['userName']\n",
    "        time = review_all[i]['at'].strftime(\"%Y/%m/%d %H:%M\")\n",
    "        content = review_all[i]['content']\n",
    "        alarm = \"[Google Play store] 개발자 답글이 필요한 리뷰가 추가되었습니다. / 점수 : \"+score+\" / 아이디 : \"+userid+\" / 시간 : \"+time+\" / 내용 : \"+contents\n",
    "        myTeamsMessage.text(alarm)\n",
    "        myTeamsMessage.send()"
   ]
  },
  {
   "cell_type": "code",
   "execution_count": null,
   "id": "3f0ca355",
   "metadata": {},
   "outputs": [],
   "source": []
  }
 ],
 "metadata": {
  "kernelspec": {
   "display_name": "Python 3 (ipykernel)",
   "language": "python",
   "name": "python3"
  },
  "language_info": {
   "codemirror_mode": {
    "name": "ipython",
    "version": 3
   },
   "file_extension": ".py",
   "mimetype": "text/x-python",
   "name": "python",
   "nbconvert_exporter": "python",
   "pygments_lexer": "ipython3",
   "version": "3.7.11"
  }
 },
 "nbformat": 4,
 "nbformat_minor": 5
}
