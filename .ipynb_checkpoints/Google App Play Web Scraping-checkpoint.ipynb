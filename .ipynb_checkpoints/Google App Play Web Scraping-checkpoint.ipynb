{
 "cells": [
  {
   "cell_type": "code",
   "execution_count": 1,
   "id": "6e83a69b",
   "metadata": {},
   "outputs": [],
   "source": [
    "import time\n",
    "from bs4 import BeautifulSoup\n",
    "import sys, io\n",
    "from selenium import webdriver\n",
    "from selenium.webdriver.support.ui import WebDriverWait\n",
    "from selenium.webdriver.common.proxy import *"
   ]
  },
  {
   "cell_type": "code",
   "execution_count": 20,
   "id": "4eae3c04",
   "metadata": {},
   "outputs": [
    {
     "data": {
      "text/plain": [
       "'/Users/reejungkim/Documents/Git/WebCrawler'"
      ]
     },
     "execution_count": 20,
     "metadata": {},
     "output_type": "execute_result"
    }
   ],
   "source": [
    "import os\n",
    "os.getcwd()"
   ]
  },
  {
   "cell_type": "markdown",
   "id": "f3fe190e",
   "metadata": {},
   "source": [
    "xattr -d com.apple.quarantine chromedriver"
   ]
  },
  {
   "cell_type": "code",
   "execution_count": 21,
   "id": "15a89542",
   "metadata": {},
   "outputs": [],
   "source": [
    "no_of_reviews = 10000\n",
    "\n",
    "non_bmp_map = dict.fromkeys(range(0x10000, sys.maxunicode + 1), 0xfffd)"
   ]
  },
  {
   "cell_type": "markdown",
   "id": "dd7f152b",
   "metadata": {
    "scrolled": true
   },
   "source": [
    "#https://chromedriver.chromium.org/downloads\n",
    "driver = webdriver.Chrome(r\"/Users/reejungkim/Documents/Git/WebCrawler/chrome96/chromedriver\")\n",
    "!which chromedriver"
   ]
  },
  {
   "cell_type": "code",
   "execution_count": 22,
   "id": "d3c4f6a2",
   "metadata": {},
   "outputs": [],
   "source": [
    "from selenium import webdriver\n",
    "import chromedriver_autoinstaller\n",
    "\n",
    "\n",
    "chromedriver_autoinstaller.install()  # Check if the current version of chromedriver exists\n",
    "                                      # and if it doesn't exist, download it automatically,\n",
    "                                      # then add chromedriver to path\n",
    "\n",
    "driver = webdriver.Chrome()\n",
    "#driver.get(\"http://www.python.org\")\n",
    "#assert \"Python\" in driver.title"
   ]
  },
  {
   "cell_type": "code",
   "execution_count": 23,
   "id": "5094931e",
   "metadata": {},
   "outputs": [],
   "source": [
    "wait = WebDriverWait( driver, 10 )"
   ]
  },
  {
   "cell_type": "code",
   "execution_count": 24,
   "id": "40c91ef9",
   "metadata": {},
   "outputs": [],
   "source": [
    "#Append your app store urls here\n",
    "urls = [\"https://play.google.com/store/apps/details?id=com.towneers.www&hl=ko&gl=US&showAllReviews=true\"]"
   ]
  },
  {
   "cell_type": "code",
   "execution_count": 25,
   "id": "910b861b",
   "metadata": {},
   "outputs": [],
   "source": [
    "import pandas as pd\n",
    "df = pd.DataFrame()"
   ]
  },
  {
   "cell_type": "code",
   "execution_count": 26,
   "id": "6553bb3b",
   "metadata": {
    "scrolled": true
   },
   "outputs": [
    {
     "name": "stdout",
     "output_type": "stream",
     "text": [
      "CPU times: user 1.67 s, sys: 67.3 ms, total: 1.74 s\n",
      "Wall time: 1min 55s\n"
     ]
    }
   ],
   "source": [
    "%%time\n",
    "\n",
    "for url in urls:\n",
    "\n",
    "    driver.get(url)\n",
    "\n",
    "    page = driver.page_source\n",
    "\n",
    "    soup_expatistan = BeautifulSoup(page, \"html.parser\")\n",
    "\n",
    "    # open all reviews\n",
    "    url = url+'&showAllReviews=true'\n",
    "    driver.get(url)\n",
    "    time.sleep(5) # wait dom ready\n",
    "    for i in range(1,100):\n",
    "        driver.execute_script('window.scrollTo(0, document.body.scrollHeight);')#scroll to load other reviews\n",
    "        time.sleep(1)\n",
    "    page = driver.page_source\n",
    "\n",
    "    soup_expatistan = BeautifulSoup(page, \"html.parser\")\n",
    "    expand_pages = soup_expatistan.findAll(\"div\", class_=\"d15Mdf\")\n",
    "    counter = 1\n",
    "    for expand_page in expand_pages:\n",
    "        try:\n",
    "            \n",
    "            author = str(expand_page.find(\"span\", class_=\"X43Kjb\").text)\n",
    "            review_date = expand_page.find(\"span\", class_=\"p2TkOb\").text\n",
    "            \n",
    "            reviewer_ratings = expand_page.find(\"div\", class_=\"jUL89d y92BAb\").text\n",
    "            #print(\"Reviewer Ratings: \", reviewer_ratings)\n",
    "\n",
    "            review_body = str(expand_page.find(\"div\", class_=\"UD7Dzf\").text)\n",
    "            #print(\"Review Body: \", review_body)\n",
    "            \n",
    "            star = expand_page.find(\"div\", class_=\"pf5lIe\").find_next()['aria-label']\n",
    "            \n",
    "            developer_reply = expand_page.find_parent().find(\"div\", class_=\"LVQB0b\")\n",
    "\n",
    "            new_row = {'author':author, 'review_date':review_date, \n",
    "                       'reviewer_ratings':reviewer_ratings, 'review':review_body, 'star':star,\n",
    "                       'developer_reply': developer_reply\n",
    "                }\n",
    "            df = df.append(new_row, ignore_index=True)\n",
    "\n",
    "            counter+=1\n",
    "        except:\n",
    "            pass\n",
    "driver.quit()"
   ]
  },
  {
   "cell_type": "code",
   "execution_count": 27,
   "id": "10b200f5",
   "metadata": {},
   "outputs": [],
   "source": [
    "import datetime as dt\n",
    "timestamp = dt.datetime.today().strftime('%Y-%m-%d-%H:%m:%S')"
   ]
  },
  {
   "cell_type": "code",
   "execution_count": 28,
   "id": "79aa0136",
   "metadata": {},
   "outputs": [],
   "source": [
    "os.chdir(\"/Users/reejungkim/Documents/Git/WebCrawler/output\")"
   ]
  },
  {
   "cell_type": "code",
   "execution_count": 29,
   "id": "3bebc7a9",
   "metadata": {},
   "outputs": [],
   "source": [
    "file_name = 'GooglePlayStore_Review_' + timestamp + '.csv'"
   ]
  },
  {
   "cell_type": "code",
   "execution_count": 30,
   "id": "dfca8f30",
   "metadata": {},
   "outputs": [],
   "source": [
    "df.to_csv(file_name, index = True)"
   ]
  },
  {
   "cell_type": "code",
   "execution_count": 31,
   "id": "c6cc65ef",
   "metadata": {},
   "outputs": [
    {
     "name": "stderr",
     "output_type": "stream",
     "text": [
      "WARNING:urllib3.connectionpool:Retrying (Retry(total=2, connect=None, read=None, redirect=None, status=None)) after connection broken by 'NewConnectionError('<urllib3.connection.HTTPConnection object at 0x7f829af30490>: Failed to establish a new connection: [Errno 61] Connection refused')': /session/747c762cc7abdc99190fdf34f324ed18\n",
      "WARNING:urllib3.connectionpool:Retrying (Retry(total=1, connect=None, read=None, redirect=None, status=None)) after connection broken by 'NewConnectionError('<urllib3.connection.HTTPConnection object at 0x7f829af1ea90>: Failed to establish a new connection: [Errno 61] Connection refused')': /session/747c762cc7abdc99190fdf34f324ed18\n",
      "WARNING:urllib3.connectionpool:Retrying (Retry(total=0, connect=None, read=None, redirect=None, status=None)) after connection broken by 'NewConnectionError('<urllib3.connection.HTTPConnection object at 0x7f8299550e50>: Failed to establish a new connection: [Errno 61] Connection refused')': /session/747c762cc7abdc99190fdf34f324ed18\n"
     ]
    }
   ],
   "source": [
    "driver.quit()"
   ]
  },
  {
   "cell_type": "code",
   "execution_count": null,
   "id": "74ace159",
   "metadata": {},
   "outputs": [],
   "source": []
  }
 ],
 "metadata": {
  "kernelspec": {
   "display_name": "Python 3 (ipykernel)",
   "language": "python",
   "name": "python3"
  },
  "language_info": {
   "codemirror_mode": {
    "name": "ipython",
    "version": 3
   },
   "file_extension": ".py",
   "mimetype": "text/x-python",
   "name": "python",
   "nbconvert_exporter": "python",
   "pygments_lexer": "ipython3",
   "version": "3.7.11"
  }
 },
 "nbformat": 4,
 "nbformat_minor": 5
}
