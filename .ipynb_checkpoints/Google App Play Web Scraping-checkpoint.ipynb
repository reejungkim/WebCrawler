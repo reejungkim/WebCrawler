{
 "cells": [
  {
   "cell_type": "code",
   "execution_count": 1,
   "id": "nutritional-musical",
   "metadata": {},
   "outputs": [],
   "source": [
    "import time\n",
    "from bs4 import BeautifulSoup\n",
    "import sys, io\n",
    "from selenium import webdriver\n",
    "from selenium.webdriver.support.ui import WebDriverWait\n",
    "from selenium.webdriver.common.proxy import *"
   ]
  },
  {
   "cell_type": "code",
   "execution_count": 2,
   "id": "outer-baseball",
   "metadata": {},
   "outputs": [
    {
     "name": "stdout",
     "output_type": "stream",
     "text": [
      "chromedriver not found\r\n"
     ]
    }
   ],
   "source": [
    "!which chromedriver"
   ]
  },
  {
   "cell_type": "code",
   "execution_count": 3,
   "id": "difficult-choice",
   "metadata": {},
   "outputs": [],
   "source": [
    "no_of_reviews = 10000\n",
    "\n",
    "non_bmp_map = dict.fromkeys(range(0x10000, sys.maxunicode + 1), 0xfffd)\n",
    "driver = webdriver.Chrome(\"/Users/reejungkim/Downloads/chromedriver\")\n",
    "\n",
    "wait = WebDriverWait( driver, 10 )"
   ]
  },
  {
   "cell_type": "code",
   "execution_count": 4,
   "id": "motivated-ethernet",
   "metadata": {},
   "outputs": [],
   "source": [
    "#Append your app store urls here\n",
    "urls = [\"https://play.google.com/store/apps/details?id=kr.co.welcomebank.omb&hl=ko&gl=US&showAllReviews=true\"]"
   ]
  },
  {
   "cell_type": "code",
   "execution_count": 5,
   "id": "faced-substance",
   "metadata": {},
   "outputs": [],
   "source": [
    "import pandas as pd\n",
    "df = pd.DataFrame()"
   ]
  },
  {
   "cell_type": "code",
   "execution_count": 6,
   "id": "marked-banks",
   "metadata": {
    "scrolled": true
   },
   "outputs": [
    {
     "name": "stdout",
     "output_type": "stream",
     "text": [
      "CPU times: user 1.29 s, sys: 46 ms, total: 1.33 s\n",
      "Wall time: 1min 50s\n"
     ]
    }
   ],
   "source": [
    "%%time\n",
    "\n",
    "for url in urls:\n",
    "\n",
    "    driver.get(url)\n",
    "\n",
    "    page = driver.page_source\n",
    "\n",
    "    soup_expatistan = BeautifulSoup(page, \"html.parser\")\n",
    "\n",
    "    # open all reviews\n",
    "    url = url+'&showAllReviews=true'\n",
    "    driver.get(url)\n",
    "    time.sleep(5) # wait dom ready\n",
    "    for i in range(1,100):\n",
    "        driver.execute_script('window.scrollTo(0, document.body.scrollHeight);')#scroll to load other reviews\n",
    "        time.sleep(1)\n",
    "    page = driver.page_source\n",
    "\n",
    "    soup_expatistan = BeautifulSoup(page, \"html.parser\")\n",
    "    expand_pages = soup_expatistan.findAll(\"div\", class_=\"d15Mdf\")\n",
    "    counter = 1\n",
    "    for expand_page in expand_pages:\n",
    "        try:\n",
    "            \n",
    "            author = str(expand_page.find(\"span\", class_=\"X43Kjb\").text)\n",
    "            review_date = expand_page.find(\"span\", class_=\"p2TkOb\").text\n",
    "            \n",
    "            reviewer_ratings = expand_page.find(\"div\", class_=\"jUL89d y92BAb\").text\n",
    "            #print(\"Reviewer Ratings: \", reviewer_ratings)\n",
    "\n",
    "            review_body = str(expand_page.find(\"div\", class_=\"UD7Dzf\").text)\n",
    "            #print(\"Review Body: \", review_body)\n",
    "            \n",
    "            star = expand_page.find(\"div\", class_=\"pf5lIe\").find_next()['aria-label']\n",
    "            \n",
    "            developer_reply = expand_page.find_parent().find(\"div\", class_=\"LVQB0b\")\n",
    "\n",
    "            new_row = {'author':author, 'review_date':review_date, \n",
    "                       'reviewer_ratings':reviewer_ratings, 'review':review_body, 'star':star,\n",
    "                       'developer_reply': developer_reply\n",
    "                }\n",
    "            df = df.append(new_row, ignore_index=True)\n",
    "\n",
    "            counter+=1\n",
    "        except:\n",
    "            pass\n",
    "driver.quit()"
   ]
  },
  {
   "cell_type": "code",
   "execution_count": 7,
   "id": "communist-february",
   "metadata": {},
   "outputs": [],
   "source": [
    "import datetime as dt\n",
    "timestamp = dt.datetime.today().strftime('%Y-%m-%d-%H:%m:%S')"
   ]
  },
  {
   "cell_type": "code",
   "execution_count": 8,
   "id": "finite-product",
   "metadata": {},
   "outputs": [],
   "source": [
    "file_name = 'GooglePlayStore_Review_' + timestamp + '.csv'"
   ]
  },
  {
   "cell_type": "code",
   "execution_count": 9,
   "id": "expensive-explanation",
   "metadata": {},
   "outputs": [],
   "source": [
    "df.to_csv(file_name, index = True)"
   ]
  },
  {
   "cell_type": "code",
   "execution_count": 10,
   "id": "interested-preparation",
   "metadata": {},
   "outputs": [],
   "source": [
    "driver.quit()"
   ]
  },
  {
   "cell_type": "code",
   "execution_count": null,
   "id": "outdoor-accounting",
   "metadata": {},
   "outputs": [],
   "source": []
  }
 ],
 "metadata": {
  "kernelspec": {
   "display_name": "Python 3",
   "language": "python",
   "name": "python3"
  },
  "language_info": {
   "codemirror_mode": {
    "name": "ipython",
    "version": 3
   },
   "file_extension": ".py",
   "mimetype": "text/x-python",
   "name": "python",
   "nbconvert_exporter": "python",
   "pygments_lexer": "ipython3",
   "version": "3.7.0"
  }
 },
 "nbformat": 4,
 "nbformat_minor": 5
}
