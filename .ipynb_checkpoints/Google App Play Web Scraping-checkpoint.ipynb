{
 "cells": [
  {
   "cell_type": "code",
   "execution_count": 7,
   "id": "provincial-utility",
   "metadata": {},
   "outputs": [],
   "source": [
    "import time\n",
    "from bs4 import BeautifulSoup\n",
    "import sys, io\n",
    "from selenium import webdriver\n",
    "from selenium.webdriver.support.ui import WebDriverWait\n",
    "from selenium.webdriver.common.proxy import *"
   ]
  },
  {
   "cell_type": "code",
   "execution_count": 8,
   "id": "prostate-disaster",
   "metadata": {},
   "outputs": [],
   "source": [
    "no_of_reviews = 10000\n",
    "\n",
    "non_bmp_map = dict.fromkeys(range(0x10000, sys.maxunicode + 1), 0xfffd)\n",
    "driver = webdriver.Chrome(\"/Users/reejungkim/Downloads/chromedriver\")\n",
    "\n",
    "wait = WebDriverWait( driver, 10 )"
   ]
  },
  {
   "cell_type": "code",
   "execution_count": 9,
   "id": "south-edinburgh",
   "metadata": {},
   "outputs": [],
   "source": [
    "#Append your app store urls here\n",
    "urls = [\"https://play.google.com/store/apps/details?id=kr.co.ssg&hl=ko&gl=KR\"]"
   ]
  },
  {
   "cell_type": "code",
   "execution_count": 10,
   "id": "useful-international",
   "metadata": {},
   "outputs": [],
   "source": [
    "import pandas as pd\n",
    "df = pd.DataFrame()"
   ]
  },
  {
   "cell_type": "code",
   "execution_count": 11,
   "id": "distinct-sherman",
   "metadata": {
    "scrolled": true
   },
   "outputs": [
    {
     "name": "stdout",
     "output_type": "stream",
     "text": [
      "CPU times: user 1.29 s, sys: 31.8 ms, total: 1.32 s\n",
      "Wall time: 22.2 s\n"
     ]
    }
   ],
   "source": [
    "%%time\n",
    "\n",
    "for url in urls:\n",
    "\n",
    "    driver.get(url)\n",
    "\n",
    "    page = driver.page_source\n",
    "\n",
    "    soup_expatistan = BeautifulSoup(page, \"html.parser\")\n",
    "\n",
    "    # open all reviews\n",
    "    url = url+'&showAllReviews=true'\n",
    "    driver.get(url)\n",
    "    time.sleep(5) # wait dom ready\n",
    "    for i in range(1,10):\n",
    "        driver.execute_script('window.scrollTo(0, document.body.scrollHeight);')#scroll to load other reviews\n",
    "        time.sleep(1)\n",
    "    page = driver.page_source\n",
    "\n",
    "    soup_expatistan = BeautifulSoup(page, \"html.parser\")\n",
    "    expand_pages = soup_expatistan.findAll(\"div\", class_=\"d15Mdf\")\n",
    "    counter = 1\n",
    "    for expand_page in expand_pages:\n",
    "        try:\n",
    "            \n",
    "            author = str(expand_page.find(\"span\", class_=\"X43Kjb\").text)\n",
    "            review_date = expand_page.find(\"span\", class_=\"p2TkOb\").text\n",
    "            \n",
    "            #print(\"\\n===========\\n\")\n",
    "            #print(\"review：\"+str(counter))\n",
    "            #print(\"Author Name: \", author)\n",
    "            #print(\"Review Date: \", review_date)\n",
    "            '''\n",
    "            //didn't find reviewer link\n",
    "            print(\"Reviewer Link: \", expand_page.find(\"a\", class_=\"reviews-permalink\")['href'])\n",
    "            '''\n",
    "            reviewer_ratings = expand_page.find(\"div\", class_=\"pf5lIe\").find_next()['aria-label'];\n",
    "            reviewer_ratings = reviewer_ratings.split('(')[0]\n",
    "            reviewer_ratings = ''.join(x for x in reviewer_ratings if x.isdigit())\n",
    "            #print(\"Reviewer Ratings: \", reviewer_ratings)\n",
    "            '''\n",
    "            //didn't find review title\n",
    "            print(\"Review Title: \", str(expand_page.find(\"span\", class_=\"review-title\").string))\n",
    "            '''\n",
    "            review_body = str(expand_page.find(\"div\", class_=\"UD7Dzf\").text)\n",
    "            #print(\"Review Body: \", review_body)\n",
    "            \n",
    "            developer_reply = expand_page.find_parent().find(\"div\", class_=\"LVQB0b\")\n",
    "            #if hasattr(developer_reply, \"text\"):\n",
    "            #    print(\"Developer Reply: \"+\"\\n\", str(developer_reply.text))\n",
    "            #else:\n",
    "            #    print(\"Developer Reply: \", \"\")\n",
    "        \n",
    "\n",
    "            new_row = {'author':author, 'review_date':review_date, \n",
    "                       'reviewer_ratings':reviewer_ratings, 'review':review_body, \n",
    "                       'developer_reply': developer_reply\n",
    "                }\n",
    "            df = df.append(new_row, ignore_index=True)\n",
    "\n",
    "            counter+=1\n",
    "        except:\n",
    "            pass\n",
    "driver.quit()"
   ]
  },
  {
   "cell_type": "code",
   "execution_count": 12,
   "id": "hairy-equation",
   "metadata": {},
   "outputs": [],
   "source": [
    "import datetime as dt\n",
    "timestamp = dt.datetime.today().strftime('%Y-%m-%d-%H:%m:%S')"
   ]
  },
  {
   "cell_type": "code",
   "execution_count": 13,
   "id": "recognized-begin",
   "metadata": {},
   "outputs": [],
   "source": [
    "file_name = 'GooglePlayStore_Review_' + timestamp + '.csv'"
   ]
  },
  {
   "cell_type": "code",
   "execution_count": 15,
   "id": "illegal-filename",
   "metadata": {},
   "outputs": [],
   "source": [
    "df.to_csv(file_name, index = True)"
   ]
  },
  {
   "cell_type": "code",
   "execution_count": null,
   "id": "decent-stanford",
   "metadata": {},
   "outputs": [],
   "source": []
  },
  {
   "cell_type": "code",
   "execution_count": null,
   "id": "binding-sculpture",
   "metadata": {},
   "outputs": [],
   "source": []
  },
  {
   "cell_type": "markdown",
   "id": "involved-imaging",
   "metadata": {},
   "source": [
    "for url in urls:\n",
    "\n",
    "    driver.get(url)\n",
    "    page = driver.page_source\n",
    "    \n",
    "    soup_expatistan = BeautifulSoup(page, \"html.parser\")\n",
    "\n",
    "    #App name\n",
    "    expatistan_table = soup_expatistan.find(\"h1\", class_=\"AHFaub\")\n",
    "    print(\"App name: \", expatistan_table.string)\n",
    "\n",
    "    #Number of Installs \n",
    "    expatistan_table = soup_expatistan.findAll(\"span\", class_=\"htlgb\")[4]\n",
    "    print(\"Installs Range: \", expatistan_table.string)\n",
    "    "
   ]
  },
  {
   "cell_type": "markdown",
   "id": "objective-jewelry",
   "metadata": {},
   "source": [
    "driver.find_element_by_xpath(\"//span[@class='RveJvd snByac']\").click()"
   ]
  },
  {
   "cell_type": "markdown",
   "id": "regulated-pizza",
   "metadata": {},
   "source": [
    "driver.close()\n",
    "url = \"https://play.google.com/store/apps/details?id=kr.co.ssg&hl=ko&gl=KR&showAllReviews=true\"\n",
    "driver.get(url)\n",
    "page = driver.page_source"
   ]
  },
  {
   "cell_type": "markdown",
   "id": "respiratory-protection",
   "metadata": {},
   "source": [
    "#Comment\n",
    "#comment = driver.find_element_by_xpath(\"//span[@jsname='bN97Pc']\").text\n",
    "comment = soup_expatistan.find(\"span\",{\"jsname\":\"bN97Pc\"}).text\n",
    "print(\"Comment:\" , comment)"
   ]
  },
  {
   "cell_type": "markdown",
   "id": "fiscal-nickel",
   "metadata": {},
   "source": [
    "#Date\n",
    "#date = driver.find_element_by_xpath(\"//span[@class='p2TkOb']\").text\n",
    "date = soup_expatistan.find(\"span\",{\"class\":\"p2TkOb\"}).text\n",
    "print(\"Date: \" , date)"
   ]
  },
  {
   "cell_type": "markdown",
   "id": "graphic-minimum",
   "metadata": {},
   "source": [
    "#Likes\n",
    "like = driver.find_element_by_xpath(\"//div[@aria-label='이 리뷰가 유용하다는 평가를 받은 횟수입니다.']\").text\n",
    "print(\"Likes: \", like)"
   ]
  },
  {
   "cell_type": "markdown",
   "id": "imported-european",
   "metadata": {},
   "source": [
    "#Star\n",
    "star = driver.find_element_by_xpath(\"//span[@class='nt2C1d']/div[@class='pf5lIe']/div[@role='img']\") \n",
    "star = star.get_attribute('aria-label')\n",
    "print(\"Starts: \", star)"
   ]
  },
  {
   "cell_type": "markdown",
   "id": "elegant-tribute",
   "metadata": {},
   "source": [
    "https://github.com/ranjeet867/google-play-crawler"
   ]
  },
  {
   "cell_type": "code",
   "execution_count": null,
   "id": "impaired-halifax",
   "metadata": {},
   "outputs": [],
   "source": []
  },
  {
   "cell_type": "code",
   "execution_count": null,
   "id": "incredible-poultry",
   "metadata": {},
   "outputs": [],
   "source": []
  }
 ],
 "metadata": {
  "kernelspec": {
   "display_name": "Python 3",
   "language": "python",
   "name": "python3"
  },
  "language_info": {
   "codemirror_mode": {
    "name": "ipython",
    "version": 3
   },
   "file_extension": ".py",
   "mimetype": "text/x-python",
   "name": "python",
   "nbconvert_exporter": "python",
   "pygments_lexer": "ipython3",
   "version": "3.7.0"
  }
 },
 "nbformat": 4,
 "nbformat_minor": 5
}
