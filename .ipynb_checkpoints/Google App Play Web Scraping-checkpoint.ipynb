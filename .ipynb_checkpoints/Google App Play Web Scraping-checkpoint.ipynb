{
 "cells": [
  {
   "cell_type": "code",
   "execution_count": 1,
   "id": "false-airplane",
   "metadata": {},
   "outputs": [],
   "source": [
    "import time\n",
    "from bs4 import BeautifulSoup\n",
    "import sys, io\n",
    "from selenium import webdriver\n",
    "from selenium.webdriver.support.ui import WebDriverWait\n",
    "from selenium.webdriver.common.proxy import *"
   ]
  },
  {
   "cell_type": "code",
   "execution_count": 2,
   "id": "worst-desert",
   "metadata": {},
   "outputs": [],
   "source": [
    "no_of_reviews = 10000\n",
    "\n",
    "non_bmp_map = dict.fromkeys(range(0x10000, sys.maxunicode + 1), 0xfffd)\n",
    "driver = webdriver.Chrome(\"/Users/reejungkim/Downloads/chromedriver\")\n",
    "\n",
    "wait = WebDriverWait( driver, 10 )"
   ]
  },
  {
   "cell_type": "code",
   "execution_count": 3,
   "id": "considerable-jenny",
   "metadata": {},
   "outputs": [],
   "source": [
    "#Append your app store urls here\n",
    "urls = [\"https://play.google.com/store/apps/details?id=com.facebook.katana&hl=ko&gl=US&showAllReviews=true\"]"
   ]
  },
  {
   "cell_type": "code",
   "execution_count": 4,
   "id": "iraqi-flight",
   "metadata": {},
   "outputs": [],
   "source": [
    "import pandas as pd\n",
    "df = pd.DataFrame()"
   ]
  },
  {
   "cell_type": "code",
   "execution_count": 5,
   "id": "consistent-registration",
   "metadata": {
    "scrolled": true
   },
   "outputs": [
    {
     "name": "stdout",
     "output_type": "stream",
     "text": [
      "CPU times: user 1.16 s, sys: 31.3 ms, total: 1.19 s\n",
      "Wall time: 20.1 s\n"
     ]
    }
   ],
   "source": [
    "%%time\n",
    "\n",
    "for url in urls:\n",
    "\n",
    "    driver.get(url)\n",
    "\n",
    "    page = driver.page_source\n",
    "\n",
    "    soup_expatistan = BeautifulSoup(page, \"html.parser\")\n",
    "\n",
    "    # open all reviews\n",
    "    url = url+'&showAllReviews=true'\n",
    "    driver.get(url)\n",
    "    time.sleep(5) # wait dom ready\n",
    "    for i in range(1,10):\n",
    "        driver.execute_script('window.scrollTo(0, document.body.scrollHeight);')#scroll to load other reviews\n",
    "        time.sleep(1)\n",
    "    page = driver.page_source\n",
    "\n",
    "    soup_expatistan = BeautifulSoup(page, \"html.parser\")\n",
    "    expand_pages = soup_expatistan.findAll(\"div\", class_=\"d15Mdf\")\n",
    "    counter = 1\n",
    "    for expand_page in expand_pages:\n",
    "        try:\n",
    "            \n",
    "            author = str(expand_page.find(\"span\", class_=\"X43Kjb\").text)\n",
    "            review_date = expand_page.find(\"span\", class_=\"p2TkOb\").text\n",
    "            \n",
    "            #print(\"\\n===========\\n\")\n",
    "            #print(\"review：\"+str(counter))\n",
    "            #print(\"Author Name: \", author)\n",
    "            #print(\"Review Date: \", review_date)\n",
    "            '''\n",
    "            //didn't find reviewer link\n",
    "            print(\"Reviewer Link: \", expand_page.find(\"a\", class_=\"reviews-permalink\")['href'])\n",
    "            '''\n",
    "            reviewer_ratings = expand_page.find(\"div\", class_=\"pf5lIe\").find_next()['aria-label'];\n",
    "            reviewer_ratings = reviewer_ratings.split('(')[0]\n",
    "            reviewer_ratings = ''.join(x for x in reviewer_ratings if x.isdigit())\n",
    "            #print(\"Reviewer Ratings: \", reviewer_ratings)\n",
    "            '''\n",
    "            //didn't find review title\n",
    "            print(\"Review Title: \", str(expand_page.find(\"span\", class_=\"review-title\").string))\n",
    "            '''\n",
    "            review_body = str(expand_page.find(\"div\", class_=\"UD7Dzf\").text)\n",
    "            #print(\"Review Body: \", review_body)\n",
    "            \n",
    "            star = expand_page.find(\"div\", class_=\"pf5lIe\").find_next()['aria-label']\n",
    "            \n",
    "            developer_reply = expand_page.find_parent().find(\"div\", class_=\"LVQB0b\")\n",
    "            #if hasattr(developer_reply, \"text\"):\n",
    "            #    print(\"Developer Reply: \"+\"\\n\", str(developer_reply.text))\n",
    "            #else:\n",
    "            #    print(\"Developer Reply: \", \"\")\n",
    "        \n",
    "\n",
    "            new_row = {'author':author, 'review_date':review_date, \n",
    "                       'reviewer_ratings':reviewer_ratings, 'review':review_body, 'star':star,\n",
    "                       'developer_reply': developer_reply\n",
    "                }\n",
    "            df = df.append(new_row, ignore_index=True)\n",
    "\n",
    "            counter+=1\n",
    "        except:\n",
    "            pass\n",
    "driver.quit()"
   ]
  },
  {
   "cell_type": "code",
   "execution_count": 6,
   "id": "included-diagram",
   "metadata": {},
   "outputs": [
    {
     "data": {
      "text/html": [
       "<div>\n",
       "<style scoped>\n",
       "    .dataframe tbody tr th:only-of-type {\n",
       "        vertical-align: middle;\n",
       "    }\n",
       "\n",
       "    .dataframe tbody tr th {\n",
       "        vertical-align: top;\n",
       "    }\n",
       "\n",
       "    .dataframe thead th {\n",
       "        text-align: right;\n",
       "    }\n",
       "</style>\n",
       "<table border=\"1\" class=\"dataframe\">\n",
       "  <thead>\n",
       "    <tr style=\"text-align: right;\">\n",
       "      <th></th>\n",
       "      <th>author</th>\n",
       "      <th>developer_reply</th>\n",
       "      <th>review</th>\n",
       "      <th>review_date</th>\n",
       "      <th>reviewer_ratings</th>\n",
       "      <th>star</th>\n",
       "    </tr>\n",
       "  </thead>\n",
       "  <tbody>\n",
       "    <tr>\n",
       "      <th>0</th>\n",
       "      <td>지현우</td>\n",
       "      <td>None</td>\n",
       "      <td>한달째 로그인 오류 덕분에 사용하지 못하고 있네요 지인들과 연락도 안되고 이게 뭐...</td>\n",
       "      <td>2021년 2월 14일</td>\n",
       "      <td>51</td>\n",
       "      <td>별표 5개 만점에 1개를 받았습니다.</td>\n",
       "    </tr>\n",
       "    <tr>\n",
       "      <th>1</th>\n",
       "      <td>감수성art채널</td>\n",
       "      <td>None</td>\n",
       "      <td>다른계정 로그인이 안됩니다 본인 비밀번호를 맞게 입력해도 메일주소가 다르게 나오고...</td>\n",
       "      <td>2021년 2월 9일</td>\n",
       "      <td>51</td>\n",
       "      <td>별표 5개 만점에 1개를 받았습니다.</td>\n",
       "    </tr>\n",
       "    <tr>\n",
       "      <th>2</th>\n",
       "      <td>전지현</td>\n",
       "      <td>None</td>\n",
       "      <td>번호가바뀌면서쓰던계정과연동이되지않고잇습니다.로그인코드를문자로보내시는거같은데 이미번...</td>\n",
       "      <td>2021년 1월 22일</td>\n",
       "      <td>51</td>\n",
       "      <td>별표 5개 만점에 1개를 받았습니다.</td>\n",
       "    </tr>\n",
       "    <tr>\n",
       "      <th>3</th>\n",
       "      <td>윤재형</td>\n",
       "      <td>None</td>\n",
       "      <td>비밀번호를 까먹어서 SMS로 인증코드 확인할려고 \"다음\" 눌렀는데 처음화면으로 돌...</td>\n",
       "      <td>2021년 2월 3일</td>\n",
       "      <td>51</td>\n",
       "      <td>별표 5개 만점에 1개를 받았습니다.</td>\n",
       "    </tr>\n",
       "    <tr>\n",
       "      <th>4</th>\n",
       "      <td>유진</td>\n",
       "      <td>None</td>\n",
       "      <td>제가 이거 한적이 있었는데 깔았다가 지웠거든요 그리고 전화번호도 바꿨어요 그리고 ...</td>\n",
       "      <td>2021년 2월 13일</td>\n",
       "      <td>52</td>\n",
       "      <td>별표 5개 만점에 2개를 받았습니다.</td>\n",
       "    </tr>\n",
       "  </tbody>\n",
       "</table>\n",
       "</div>"
      ],
      "text/plain": [
       "     author developer_reply  \\\n",
       "0       지현우            None   \n",
       "1  감수성art채널            None   \n",
       "2       전지현            None   \n",
       "3       윤재형            None   \n",
       "4        유진            None   \n",
       "\n",
       "                                              review   review_date  \\\n",
       "0   한달째 로그인 오류 덕분에 사용하지 못하고 있네요 지인들과 연락도 안되고 이게 뭐...  2021년 2월 14일   \n",
       "1   다른계정 로그인이 안됩니다 본인 비밀번호를 맞게 입력해도 메일주소가 다르게 나오고...   2021년 2월 9일   \n",
       "2   번호가바뀌면서쓰던계정과연동이되지않고잇습니다.로그인코드를문자로보내시는거같은데 이미번...  2021년 1월 22일   \n",
       "3   비밀번호를 까먹어서 SMS로 인증코드 확인할려고 \"다음\" 눌렀는데 처음화면으로 돌...   2021년 2월 3일   \n",
       "4   제가 이거 한적이 있었는데 깔았다가 지웠거든요 그리고 전화번호도 바꿨어요 그리고 ...  2021년 2월 13일   \n",
       "\n",
       "  reviewer_ratings                  star  \n",
       "0               51  별표 5개 만점에 1개를 받았습니다.  \n",
       "1               51  별표 5개 만점에 1개를 받았습니다.  \n",
       "2               51  별표 5개 만점에 1개를 받았습니다.  \n",
       "3               51  별표 5개 만점에 1개를 받았습니다.  \n",
       "4               52  별표 5개 만점에 2개를 받았습니다.  "
      ]
     },
     "execution_count": 6,
     "metadata": {},
     "output_type": "execute_result"
    }
   ],
   "source": [
    "df.head()"
   ]
  },
  {
   "cell_type": "code",
   "execution_count": 7,
   "id": "characteristic-corporation",
   "metadata": {},
   "outputs": [],
   "source": [
    "import datetime as dt\n",
    "timestamp = dt.datetime.today().strftime('%Y-%m-%d-%H:%m:%S')"
   ]
  },
  {
   "cell_type": "code",
   "execution_count": 9,
   "id": "commercial-evolution",
   "metadata": {},
   "outputs": [],
   "source": [
    "file_name = 'GooglePlayStore_Review_' + timestamp + '.csv'"
   ]
  },
  {
   "cell_type": "code",
   "execution_count": 10,
   "id": "typical-ribbon",
   "metadata": {},
   "outputs": [],
   "source": [
    "df.to_csv(file_name, index = True)"
   ]
  },
  {
   "cell_type": "code",
   "execution_count": null,
   "id": "subsequent-fault",
   "metadata": {},
   "outputs": [],
   "source": []
  },
  {
   "cell_type": "code",
   "execution_count": null,
   "id": "norman-compensation",
   "metadata": {},
   "outputs": [],
   "source": []
  },
  {
   "cell_type": "code",
   "execution_count": null,
   "id": "fewer-rover",
   "metadata": {},
   "outputs": [],
   "source": []
  },
  {
   "cell_type": "code",
   "execution_count": null,
   "id": "becoming-diabetes",
   "metadata": {},
   "outputs": [],
   "source": []
  }
 ],
 "metadata": {
  "kernelspec": {
   "display_name": "Python 3",
   "language": "python",
   "name": "python3"
  },
  "language_info": {
   "codemirror_mode": {
    "name": "ipython",
    "version": 3
   },
   "file_extension": ".py",
   "mimetype": "text/x-python",
   "name": "python",
   "nbconvert_exporter": "python",
   "pygments_lexer": "ipython3",
   "version": "3.7.0"
  }
 },
 "nbformat": 4,
 "nbformat_minor": 5
}
