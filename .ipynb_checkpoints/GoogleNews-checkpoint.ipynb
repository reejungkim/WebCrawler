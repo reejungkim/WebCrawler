{
 "cells": [
  {
   "cell_type": "markdown",
   "metadata": {},
   "source": [
    "https://pypi.org/project/GoogleNews/"
   ]
  },
  {
   "cell_type": "code",
   "execution_count": 1,
   "metadata": {},
   "outputs": [],
   "source": [
    "from GoogleNews import GoogleNews\n",
    "\n",
    "import pandas as pd\n",
    "from pandas import json_normalize"
   ]
  },
  {
   "cell_type": "code",
   "execution_count": 2,
   "metadata": {},
   "outputs": [],
   "source": [
    "googlenews = GoogleNews()\n",
    "#googlenews.clear()\n",
    "googlenews.search('Trump')\n",
    "#googlenews.clear()\n",
    "#googlenews.getpage(8)\n",
    "result1 = googlenews.result()[:5]\n",
    "#print(len(result1), len(result2))"
   ]
  },
  {
   "cell_type": "markdown",
   "metadata": {},
   "source": [
    "for n in range(len(result)):\n",
    "    print(n)\n",
    "    for index in result[n]:\n",
    "        print(index, '\\n', result[n][index])\n",
    "\n",
    "    exit()"
   ]
  },
  {
   "cell_type": "code",
   "execution_count": 10,
   "metadata": {
    "scrolled": true
   },
   "outputs": [
    {
     "data": {
      "text/plain": [
       "[{'title': 'Trump looks to 2022 with comeback rally',\n",
       "  'media': 'Financial Times',\n",
       "  'date': '5시간 전',\n",
       "  'datetime': datetime.datetime(2021, 6, 27, 14, 8, 27, 477708),\n",
       "  'desc': \"Trump looks to 2022 with comeback rally. Former President's speech hits on familiar themes. Former US President Donald Trump at his first post- ...\",\n",
       "  'link': 'https://www.ft.com/content/0770390e-2a20-4e4f-81f5-9fd2594197ac',\n",
       "  'img': 'data:image/gif;base64,R0lGODlhAQABAIAAAP///////yH5BAEKAAEALAAAAAABAAEAAAICTAEAOw=='},\n",
       " {'title': '‘He’s not a quitter’: faithful out in force as Trump gets back to the campaign trail',\n",
       "  'media': 'The Guardian',\n",
       "  'date': '6시간 전',\n",
       "  'datetime': datetime.datetime(2021, 6, 27, 13, 8, 27, 481115),\n",
       "  'desc': \"This strange carnival, unfolding on Saturday under the slogan Save America!, was the setting for Trump's first post-presidential campaign rally ...\",\n",
       "  'link': 'https://www.theguardian.com/us-news/2021/jun/27/hes-not-a-quitter-faithful-out-in-force-as-trump-gets-back-to-the-campaign-trail',\n",
       "  'img': 'data:image/gif;base64,R0lGODlhAQABAIAAAP///////yH5BAEKAAEALAAAAAABAAEAAAICTAEAOw=='}]"
      ]
     },
     "execution_count": 10,
     "metadata": {},
     "output_type": "execute_result"
    }
   ],
   "source": [
    "result1[:2]"
   ]
  },
  {
   "cell_type": "code",
   "execution_count": 3,
   "metadata": {
    "scrolled": true
   },
   "outputs": [],
   "source": [
    "df = pd.DataFrame.from_dict(json_normalize(result1), orient='columns')"
   ]
  },
  {
   "cell_type": "code",
   "execution_count": 4,
   "metadata": {},
   "outputs": [
    {
     "data": {
      "text/html": [
       "<div>\n",
       "<style scoped>\n",
       "    .dataframe tbody tr th:only-of-type {\n",
       "        vertical-align: middle;\n",
       "    }\n",
       "\n",
       "    .dataframe tbody tr th {\n",
       "        vertical-align: top;\n",
       "    }\n",
       "\n",
       "    .dataframe thead th {\n",
       "        text-align: right;\n",
       "    }\n",
       "</style>\n",
       "<table border=\"1\" class=\"dataframe\">\n",
       "  <thead>\n",
       "    <tr style=\"text-align: right;\">\n",
       "      <th></th>\n",
       "      <th>title</th>\n",
       "      <th>media</th>\n",
       "      <th>date</th>\n",
       "      <th>datetime</th>\n",
       "      <th>desc</th>\n",
       "      <th>link</th>\n",
       "      <th>img</th>\n",
       "    </tr>\n",
       "  </thead>\n",
       "  <tbody>\n",
       "    <tr>\n",
       "      <th>0</th>\n",
       "      <td>Trump looks to 2022 with comeback rally</td>\n",
       "      <td>Financial Times</td>\n",
       "      <td>5시간 전</td>\n",
       "      <td>2021-06-27 14:08:27.477708</td>\n",
       "      <td>Trump looks to 2022 with comeback rally. Forme...</td>\n",
       "      <td>https://www.ft.com/content/0770390e-2a20-4e4f-...</td>\n",
       "      <td>data:image/gif;base64,R0lGODlhAQABAIAAAP//////...</td>\n",
       "    </tr>\n",
       "    <tr>\n",
       "      <th>1</th>\n",
       "      <td>‘He’s not a quitter’: faithful out in force as...</td>\n",
       "      <td>The Guardian</td>\n",
       "      <td>6시간 전</td>\n",
       "      <td>2021-06-27 13:08:27.481115</td>\n",
       "      <td>This strange carnival, unfolding on Saturday u...</td>\n",
       "      <td>https://www.theguardian.com/us-news/2021/jun/2...</td>\n",
       "      <td>data:image/gif;base64,R0lGODlhAQABAIAAAP//////...</td>\n",
       "    </tr>\n",
       "    <tr>\n",
       "      <th>2</th>\n",
       "      <td>Donald Trump returns to the rally stage to tel...</td>\n",
       "      <td>ABC</td>\n",
       "      <td>1시간 전</td>\n",
       "      <td>2021-06-27 18:08:27.483383</td>\n",
       "      <td>Former US president Donald Trump has returned ...</td>\n",
       "      <td>https://www.abc.net.au/news/2021-06-27/trump-r...</td>\n",
       "      <td>data:image/gif;base64,R0lGODlhAQABAIAAAP//////...</td>\n",
       "    </tr>\n",
       "    <tr>\n",
       "      <th>3</th>\n",
       "      <td>Trump has Georgia revenge on his mind as he re...</td>\n",
       "      <td>NBC News</td>\n",
       "      <td>1시간 전</td>\n",
       "      <td>2021-06-27 18:08:27.485542</td>\n",
       "      <td>Republicans who embraced Trump's false fraud c...</td>\n",
       "      <td>https://www.nbcnews.com/politics/donald-trump/...</td>\n",
       "      <td>data:image/gif;base64,R0lGODlhAQABAIAAAP//////...</td>\n",
       "    </tr>\n",
       "    <tr>\n",
       "      <th>4</th>\n",
       "      <td>Trump's big lie about 2020 results suffers leg...</td>\n",
       "      <td>CNN</td>\n",
       "      <td>5시간 전</td>\n",
       "      <td>2021-06-27 14:08:27.489263</td>\n",
       "      <td>In one battleground state, Republican senators...</td>\n",
       "      <td>https://www.cnn.com/2021/06/27/politics/2020-e...</td>\n",
       "      <td>data:image/gif;base64,R0lGODlhAQABAIAAAP//////...</td>\n",
       "    </tr>\n",
       "  </tbody>\n",
       "</table>\n",
       "</div>"
      ],
      "text/plain": [
       "                                               title            media   date  \\\n",
       "0            Trump looks to 2022 with comeback rally  Financial Times  5시간 전   \n",
       "1  ‘He’s not a quitter’: faithful out in force as...     The Guardian  6시간 전   \n",
       "2  Donald Trump returns to the rally stage to tel...              ABC  1시간 전   \n",
       "3  Trump has Georgia revenge on his mind as he re...         NBC News  1시간 전   \n",
       "4  Trump's big lie about 2020 results suffers leg...              CNN  5시간 전   \n",
       "\n",
       "                    datetime  \\\n",
       "0 2021-06-27 14:08:27.477708   \n",
       "1 2021-06-27 13:08:27.481115   \n",
       "2 2021-06-27 18:08:27.483383   \n",
       "3 2021-06-27 18:08:27.485542   \n",
       "4 2021-06-27 14:08:27.489263   \n",
       "\n",
       "                                                desc  \\\n",
       "0  Trump looks to 2022 with comeback rally. Forme...   \n",
       "1  This strange carnival, unfolding on Saturday u...   \n",
       "2  Former US president Donald Trump has returned ...   \n",
       "3  Republicans who embraced Trump's false fraud c...   \n",
       "4  In one battleground state, Republican senators...   \n",
       "\n",
       "                                                link  \\\n",
       "0  https://www.ft.com/content/0770390e-2a20-4e4f-...   \n",
       "1  https://www.theguardian.com/us-news/2021/jun/2...   \n",
       "2  https://www.abc.net.au/news/2021-06-27/trump-r...   \n",
       "3  https://www.nbcnews.com/politics/donald-trump/...   \n",
       "4  https://www.cnn.com/2021/06/27/politics/2020-e...   \n",
       "\n",
       "                                                 img  \n",
       "0  data:image/gif;base64,R0lGODlhAQABAIAAAP//////...  \n",
       "1  data:image/gif;base64,R0lGODlhAQABAIAAAP//////...  \n",
       "2  data:image/gif;base64,R0lGODlhAQABAIAAAP//////...  \n",
       "3  data:image/gif;base64,R0lGODlhAQABAIAAAP//////...  \n",
       "4  data:image/gif;base64,R0lGODlhAQABAIAAAP//////...  "
      ]
     },
     "execution_count": 4,
     "metadata": {},
     "output_type": "execute_result"
    }
   ],
   "source": [
    "df"
   ]
  },
  {
   "cell_type": "code",
   "execution_count": 5,
   "metadata": {},
   "outputs": [],
   "source": [
    "googlenews.clear()\n",
    "googlenews.search('South Korea')\n",
    "result2 = googlenews.result()[:5]"
   ]
  },
  {
   "cell_type": "code",
   "execution_count": 6,
   "metadata": {},
   "outputs": [
    {
     "data": {
      "text/html": [
       "<div>\n",
       "<style scoped>\n",
       "    .dataframe tbody tr th:only-of-type {\n",
       "        vertical-align: middle;\n",
       "    }\n",
       "\n",
       "    .dataframe tbody tr th {\n",
       "        vertical-align: top;\n",
       "    }\n",
       "\n",
       "    .dataframe thead th {\n",
       "        text-align: right;\n",
       "    }\n",
       "</style>\n",
       "<table border=\"1\" class=\"dataframe\">\n",
       "  <thead>\n",
       "    <tr style=\"text-align: right;\">\n",
       "      <th></th>\n",
       "      <th>title</th>\n",
       "      <th>media</th>\n",
       "      <th>date</th>\n",
       "      <th>datetime</th>\n",
       "      <th>desc</th>\n",
       "      <th>link</th>\n",
       "      <th>img</th>\n",
       "    </tr>\n",
       "  </thead>\n",
       "  <tbody>\n",
       "    <tr>\n",
       "      <th>0</th>\n",
       "      <td>US auto brands rank No. 2 in imported car sale...</td>\n",
       "      <td>Yonhap News</td>\n",
       "      <td>3시간 전</td>\n",
       "      <td>2021-06-27 16:08:29.657392</td>\n",
       "      <td>SEOUL, June 27 (Yonhap) -- U.S. automakers ove...</td>\n",
       "      <td>https://en.yna.co.kr/view/AEN20210627002300320</td>\n",
       "      <td>data:image/gif;base64,R0lGODlhAQABAIAAAP//////...</td>\n",
       "    </tr>\n",
       "    <tr>\n",
       "      <th>1</th>\n",
       "      <td>South Korea's needless censorship of North Kor...</td>\n",
       "      <td>East Asia Forum</td>\n",
       "      <td>1일 전</td>\n",
       "      <td>2021-06-26 19:08:29.659746</td>\n",
       "      <td>North Korea's official autobiography of Kim Il...</td>\n",
       "      <td>https://www.eastasiaforum.org/2021/06/26/south...</td>\n",
       "      <td>data:image/gif;base64,R0lGODlhAQABAIAAAP//////...</td>\n",
       "    </tr>\n",
       "    <tr>\n",
       "      <th>2</th>\n",
       "      <td>Ending S. Korea-US working group on NK not an ...</td>\n",
       "      <td>Yonhap News</td>\n",
       "      <td>2일 전</td>\n",
       "      <td>2021-06-25 19:08:29.661907</td>\n",
       "      <td>JEJU/SEOUL, June 25 (Yonhap) -- Ending the bil...</td>\n",
       "      <td>https://en.yna.co.kr/view/AEN20210625008800325</td>\n",
       "      <td>data:image/gif;base64,R0lGODlhAQABAIAAAP//////...</td>\n",
       "    </tr>\n",
       "    <tr>\n",
       "      <th>3</th>\n",
       "      <td>South Korea open to dialogue with North despit...</td>\n",
       "      <td>UPI.com</td>\n",
       "      <td>1일 전</td>\n",
       "      <td>2021-06-26 19:08:29.664005</td>\n",
       "      <td>June 25 (UPI) -- South Korea will not give up ...</td>\n",
       "      <td>https://www.upi.com/Top_News/World-News/2021/0...</td>\n",
       "      <td>data:image/gif;base64,R0lGODlhAQABAIAAAP//////...</td>\n",
       "    </tr>\n",
       "    <tr>\n",
       "      <th>4</th>\n",
       "      <td>[Column] S. Korea is way behind in responding ...</td>\n",
       "      <td>The Hankyoreh</td>\n",
       "      <td>7시간 전</td>\n",
       "      <td>2021-06-27 12:08:29.666179</td>\n",
       "      <td>It's past time for lawmakers and the South Kor...</td>\n",
       "      <td>https://english.hani.co.kr/arti/english_editio...</td>\n",
       "      <td>data:image/gif;base64,R0lGODlhAQABAIAAAP//////...</td>\n",
       "    </tr>\n",
       "  </tbody>\n",
       "</table>\n",
       "</div>"
      ],
      "text/plain": [
       "                                               title            media   date  \\\n",
       "0  US auto brands rank No. 2 in imported car sale...      Yonhap News  3시간 전   \n",
       "1  South Korea's needless censorship of North Kor...  East Asia Forum   1일 전   \n",
       "2  Ending S. Korea-US working group on NK not an ...      Yonhap News   2일 전   \n",
       "3  South Korea open to dialogue with North despit...          UPI.com   1일 전   \n",
       "4  [Column] S. Korea is way behind in responding ...    The Hankyoreh  7시간 전   \n",
       "\n",
       "                    datetime  \\\n",
       "0 2021-06-27 16:08:29.657392   \n",
       "1 2021-06-26 19:08:29.659746   \n",
       "2 2021-06-25 19:08:29.661907   \n",
       "3 2021-06-26 19:08:29.664005   \n",
       "4 2021-06-27 12:08:29.666179   \n",
       "\n",
       "                                                desc  \\\n",
       "0  SEOUL, June 27 (Yonhap) -- U.S. automakers ove...   \n",
       "1  North Korea's official autobiography of Kim Il...   \n",
       "2  JEJU/SEOUL, June 25 (Yonhap) -- Ending the bil...   \n",
       "3  June 25 (UPI) -- South Korea will not give up ...   \n",
       "4  It's past time for lawmakers and the South Kor...   \n",
       "\n",
       "                                                link  \\\n",
       "0     https://en.yna.co.kr/view/AEN20210627002300320   \n",
       "1  https://www.eastasiaforum.org/2021/06/26/south...   \n",
       "2     https://en.yna.co.kr/view/AEN20210625008800325   \n",
       "3  https://www.upi.com/Top_News/World-News/2021/0...   \n",
       "4  https://english.hani.co.kr/arti/english_editio...   \n",
       "\n",
       "                                                 img  \n",
       "0  data:image/gif;base64,R0lGODlhAQABAIAAAP//////...  \n",
       "1  data:image/gif;base64,R0lGODlhAQABAIAAAP//////...  \n",
       "2  data:image/gif;base64,R0lGODlhAQABAIAAAP//////...  \n",
       "3  data:image/gif;base64,R0lGODlhAQABAIAAAP//////...  \n",
       "4  data:image/gif;base64,R0lGODlhAQABAIAAAP//////...  "
      ]
     },
     "execution_count": 6,
     "metadata": {},
     "output_type": "execute_result"
    }
   ],
   "source": [
    "pd.DataFrame.from_dict(json_normalize(result2), orient='columns')"
   ]
  },
  {
   "cell_type": "code",
   "execution_count": null,
   "metadata": {},
   "outputs": [],
   "source": []
  }
 ],
 "metadata": {
  "kernelspec": {
   "display_name": "Python 3",
   "language": "python",
   "name": "python3"
  },
  "language_info": {
   "codemirror_mode": {
    "name": "ipython",
    "version": 3
   },
   "file_extension": ".py",
   "mimetype": "text/x-python",
   "name": "python",
   "nbconvert_exporter": "python",
   "pygments_lexer": "ipython3",
   "version": "3.7.0"
  }
 },
 "nbformat": 4,
 "nbformat_minor": 4
}
