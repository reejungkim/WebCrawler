{
 "cells": [
  {
   "cell_type": "markdown",
   "id": "outer-symbol",
   "metadata": {},
   "source": [
    "https://github.com/sa46lll/WebScraping_selenium/tree/master/webscraping_basic"
   ]
  },
  {
   "cell_type": "code",
   "execution_count": 1,
   "id": "precious-above",
   "metadata": {},
   "outputs": [],
   "source": [
    "import requests\n",
    "import re\n",
    "from bs4 import BeautifulSoup\n",
    "\n",
    "url = \"https://www.coupang.com/np/search?q=%EB%85%B8%ED%8A%B8%EB%B6%81&channel=user&component=&eventCategory=SRP&trcid=&traid=&sorter=scoreDesc&minPrice=&maxPrice=&priceRange=&filterType=&listSize=36&filter=&isPriceRange=false&brand=&offerCondition=&rating=0&page=1&rocketAll=false&searchIndexingToken=1=4&backgroundColor=\"\n",
    "headers = {\"User-Agent\":\"Mozilla/5.0 (Windows NT 10.0; Win64; x64) AppleWebKit/537.36 (KHTML, like Gecko) Chrome/91.0.4472.77 Safari/537.36\"}\n",
    "res = requests.get(url, headers=headers)\n",
    "res.raise_for_status()\n",
    "soup = BeautifulSoup(res.text, \"lxml\")"
   ]
  },
  {
   "cell_type": "code",
   "execution_count": 2,
   "id": "acoustic-daughter",
   "metadata": {},
   "outputs": [],
   "source": [
    "# print(res.text)\n",
    "items = soup.find_all(\"li\", attrs={\"class\" : re.compile(\"^search-product\")}) # search_product 로 시작하는 모든 \"li\" element\n",
    "# print(items[0].find(\"div\", attrs={\"class\" : \"name\"}).get_text())"
   ]
  },
  {
   "cell_type": "code",
   "execution_count": 3,
   "id": "extended-cookie",
   "metadata": {},
   "outputs": [
    {
     "name": "stdout",
     "output_type": "stream",
     "text": [
      " <광고 상품 제외합니다>  \n",
      "삼성전자 2021 노트북 플러스2 15.6, 미스틱 그레이, 셀러론, 128GB, 8GB, WIN10 Pro, NT550XDA-K14AG 528,000 5.0 825\n",
      "삼성전자 2020 노트북 15.6, 퓨어 화이트, 코어i5 10세대, 256GB, 16GB, WIN10 Home, NT350XCR-AD5WA 857,000 5.0 1803\n",
      " <광고 상품 제외합니다>  \n",
      "LG전자 2020 울트라 PC 13.9, 화이트, 셀러론, 256GB, 4GB, WIN10 Home, 14U390-ME1TK 454,550 4.5 223\n",
      "삼성전자 2021 노트북 플러스2 15.6, 퓨어 화이트, 펜티엄, 256GB, 8GB, WIN10 Pro, NT550XDA-K24AW 605,170 5.0 825\n",
      " <광고 상품 제외합니다>  \n",
      "LG전자 2020 울트라 PC 15.6, 화이트, 라이젠7 3세대, 256GB, 16GB, Free DOS, 15UD40N-GX76K 889,000 5.0 949\n",
      "LG전자 2021 울트라 PC 15.6, 화이트, 코어i5 11세대, 256GB, 8GB, Free DOS, 15UD50P-KX50K 1,109,000 5.0 110\n",
      "레노버 2020 Gaming 3i 15IMH LEGEND PRO, 오닉스 블랙, 코어i5 10세대, 512GB, 16GB, WIN10 Home, 81Y400DGKR 1,088,120 5.0 133\n",
      "HP 2021 Pavilion X360 14, 포레스트 틸, 코어i7 11세대, 512GB, 16GB, WIN10 Home, 14-dw1053TU 1,129,000 5.0 211\n",
      "LG전자 2020 울트라 PC 15.6, 화이트, 라이젠3 3세대, 256GB, 8GB, Free DOS, 15UD40N-GX36K 719,000 5.0 949\n",
      "LG전자 2021 그램 17, 블랙, 코어i7 11세대, 768GB, 8GB, Free DOS, 17ZD90P-GX7BK 1,939,050 5.0 1281\n",
      "삼성전자 2020 노트북 15.6, 퓨어 화이트, 코어i5 10세대, 256GB, 16GB, Linux, NT350XCR-AD5WA-X16G 678,000 5.0 1803\n",
      "삼성전자 2020 플러스 15.6, 플래티넘 티탄, 코어i5 10세대, 256GB, 16GB, WIN10 Home, NT350XCR-AD5AS 841,000 5.0 1803\n",
      "삼성전자 2021 노트북 플러스2 15.6, 퓨어 화이트, 셀러론, 128GB, 8GB, WIN10 Pro, NT550XDA-K14AW 528,000 5.0 825\n",
      "LG전자 2021 울트라 PC 15.6, 화이트, 코어i5 11세대, 256GB, 8GB, Free DOS, 15UD50P-GX50K 811,050 4.5 224\n",
      "삼성전자 2021 플러스2 15.6, 퓨어 화이트, 코어i7 11세대, 256GB, 16GB, WIN10 Home, NT550XDA-K78AW 1,188,180 5.0 1192\n",
      "레노버 2020 YOGA Slim7 13.3, 문 화이트, 코어i5, 512GB, 16GB, Free DOS, 82EV0034KR 1,049,000 5.0 153\n",
      "HP 2021 Pavilion X360 14, 포레스트 틸, 코어i5 11세대, 256GB, 8GB, WIN10 Home, 14-dw1049TU 864,410 5.0 211\n",
      "레노버 2020 Legion 5-15ARH, 펜텀 블랙, 라이젠5 3세대, 256GB, 8GB, Free DOS, 82B500B9KR 949,000 5.0 163\n",
      "삼성전자 2020 플러스 15.6, 퓨어 화이트, 코어i3 10세대, 256GB, 16GB, WIN10 Home, NT350XCR-AD3AW 791,000 5.0 1803\n",
      " <Apple 상품 제외합니다.> \n",
      " <Apple 상품 제외합니다.> \n",
      "LG전자 2020 울트라 PC 13.3, 화이트, 라이젠5 3세대, 256GB, 8GB, WIN10 Home, 13U70P-GR56K 1,156,590 5.0 515\n"
     ]
    }
   ],
   "source": [
    "for item in items:\n",
    "\n",
    "    # 광고 제품은 제외\n",
    "    ad_badge = item.find(\"span\", attrs={\"class\" : \"ad-badge-text\"})\n",
    "    if ad_badge:\n",
    "        print(\" <광고 상품 제외합니다>  \")\n",
    "        continue\n",
    "\n",
    "    name = item.find(\"div\", attrs={\"class\" : \"name\"}).get_text() # 제품명\n",
    "    # 애플 제품 제외\n",
    "    if \"Apple\" in name:\n",
    "        print(\" <Apple 상품 제외합니다.> \")\n",
    "        continue\n",
    "    \n",
    "    price = item.find(\"strong\", attrs={\"class\" : \"price-value\"}).get_text() # 가격\n",
    "\n",
    " \n",
    "    # 리뷰 100개 이상, 평점 4.5 이상 되는 것만 조회\n",
    "    rating = item.find(\"em\", attrs={\"class\" : \"rating\"}) # 평점\n",
    "    if rating:\n",
    "        rating = rating.get_text()\n",
    "    else :\n",
    "        print(\" <평점 없는 상품 제외합니다> \")\n",
    "        continue\n",
    "\n",
    "    rating_cnt = item.find(\"span\", attrs={\"class\" : \"rating-total-count\"}) # 평점 수\n",
    "    if rating_cnt:\n",
    "        rating_cnt = rating_cnt.get_text()\n",
    "        rating_cnt = rating_cnt[1:-1]\n",
    "        # print(\"리뷰 수 : \" + rating_cnt)\n",
    "    else : \n",
    "        print(\" <평점 수 없는 상품 제외합니다> \")\n",
    "        continue\n",
    "\n",
    "    if float(rating) >= 4.5 and int(rating_cnt) >= 100:\n",
    "        print(name, price, rating, rating_cnt)"
   ]
  },
  {
   "cell_type": "code",
   "execution_count": null,
   "id": "exempt-editor",
   "metadata": {},
   "outputs": [],
   "source": []
  }
 ],
 "metadata": {
  "kernelspec": {
   "display_name": "Python 3",
   "language": "python",
   "name": "python3"
  },
  "language_info": {
   "codemirror_mode": {
    "name": "ipython",
    "version": 3
   },
   "file_extension": ".py",
   "mimetype": "text/x-python",
   "name": "python",
   "nbconvert_exporter": "python",
   "pygments_lexer": "ipython3",
   "version": "3.7.0"
  }
 },
 "nbformat": 4,
 "nbformat_minor": 5
}
