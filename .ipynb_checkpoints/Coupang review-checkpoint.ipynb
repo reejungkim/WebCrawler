{
 "cells": [
  {
   "cell_type": "markdown",
   "id": "sophisticated-affect",
   "metadata": {},
   "source": [
    "https://github.com/sa46lll/WebScraping_selenium/tree/master/webscraping_basic"
   ]
  },
  {
   "cell_type": "code",
   "execution_count": 1,
   "id": "pleased-helmet",
   "metadata": {},
   "outputs": [],
   "source": [
    "import requests\n",
    "import re\n",
    "from bs4 import BeautifulSoup\n",
    "\n",
    "url = \"https://www.coupang.com/np/search?q=%EB%85%B8%ED%8A%B8%EB%B6%81&channel=user&component=&eventCategory=SRP&trcid=&traid=&sorter=scoreDesc&minPrice=&maxPrice=&priceRange=&filterType=&listSize=36&filter=&isPriceRange=false&brand=&offerCondition=&rating=0&page=1&rocketAll=false&searchIndexingToken=1=4&backgroundColor=\"\n",
    "headers = {\"User-Agent\":\"Mozilla/5.0 (Windows NT 10.0; Win64; x64) AppleWebKit/537.36 (KHTML, like Gecko) Chrome/91.0.4472.77 Safari/537.36\"}\n",
    "res = requests.get(url, headers=headers)\n",
    "res.raise_for_status()\n",
    "soup = BeautifulSoup(res.text, \"lxml\")"
   ]
  },
  {
   "cell_type": "code",
   "execution_count": 2,
   "id": "advanced-proposition",
   "metadata": {},
   "outputs": [],
   "source": [
    "# print(res.text)\n",
    "items = soup.find_all(\"li\", attrs={\"class\" : re.compile(\"^search-product\")}) # search_product 로 시작하는 모든 \"li\" element\n",
    "# print(items[0].find(\"div\", attrs={\"class\" : \"name\"}).get_text())"
   ]
  },
  {
   "cell_type": "code",
   "execution_count": 36,
   "id": "marked-stage",
   "metadata": {},
   "outputs": [],
   "source": [
    "import pandas as pd\n",
    "\n",
    "df = pd.DataFrame()"
   ]
  },
  {
   "cell_type": "code",
   "execution_count": 66,
   "id": "regional-highway",
   "metadata": {},
   "outputs": [],
   "source": [
    "for item in items:\n",
    "\n",
    "    # 광고 제품은 제외\n",
    "    ad_badge = item.find(\"span\", attrs={\"class\" : \"ad-badge-text\"})\n",
    "\n",
    "    name = item.find(\"div\", attrs={\"class\" : \"name\"}).get_text() # 제품명\n",
    " \n",
    "    price = item.find(\"strong\", attrs={\"class\" : \"price-value\"}).get_text() # 가격\n",
    "\n",
    "    # 리뷰 100개 이상, 평점 4.5 이상 되는 것만 조회\n",
    "    rating = item.find(\"em\", attrs={\"class\" : \"rating\"}) # 평점\n",
    "    \n",
    "    \n",
    "    rating_cnt = item.find(\"span\", attrs={\"class\" : \"rating-total-count\"}) # 평점 수\n",
    " \n",
    "    \n",
    "    row = {'name':name, 'price':price, 'rating':rating, \n",
    "                       'rating_cnt': rating_cnt\n",
    "                }\n",
    "    df.append(row, ignore_index=True)\n",
    "    \n",
    "\n"
   ]
  },
  {
   "cell_type": "code",
   "execution_count": 67,
   "id": "casual-charge",
   "metadata": {},
   "outputs": [
    {
     "data": {
      "text/html": [
       "<div>\n",
       "<style scoped>\n",
       "    .dataframe tbody tr th:only-of-type {\n",
       "        vertical-align: middle;\n",
       "    }\n",
       "\n",
       "    .dataframe tbody tr th {\n",
       "        vertical-align: top;\n",
       "    }\n",
       "\n",
       "    .dataframe thead th {\n",
       "        text-align: right;\n",
       "    }\n",
       "</style>\n",
       "<table border=\"1\" class=\"dataframe\">\n",
       "  <thead>\n",
       "    <tr style=\"text-align: right;\">\n",
       "      <th></th>\n",
       "    </tr>\n",
       "  </thead>\n",
       "  <tbody>\n",
       "  </tbody>\n",
       "</table>\n",
       "</div>"
      ],
      "text/plain": [
       "Empty DataFrame\n",
       "Columns: []\n",
       "Index: []"
      ]
     },
     "execution_count": 67,
     "metadata": {},
     "output_type": "execute_result"
    }
   ],
   "source": [
    "df"
   ]
  },
  {
   "cell_type": "code",
   "execution_count": null,
   "id": "going-firewall",
   "metadata": {},
   "outputs": [],
   "source": []
  }
 ],
 "metadata": {
  "kernelspec": {
   "display_name": "Python 3",
   "language": "python",
   "name": "python3"
  },
  "language_info": {
   "codemirror_mode": {
    "name": "ipython",
    "version": 3
   },
   "file_extension": ".py",
   "mimetype": "text/x-python",
   "name": "python",
   "nbconvert_exporter": "python",
   "pygments_lexer": "ipython3",
   "version": "3.7.0"
  }
 },
 "nbformat": 4,
 "nbformat_minor": 5
}
