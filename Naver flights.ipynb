{
 "cells": [
  {
   "cell_type": "code",
   "execution_count": 1,
   "id": "polished-tsunami",
   "metadata": {},
   "outputs": [],
   "source": [
    "from selenium import webdriver\n",
    "from selenium.webdriver.common.by import By\n",
    "from selenium.webdriver.support.ui import WebDriverWait\n",
    "from selenium.webdriver.support import expected_conditions as EC"
   ]
  },
  {
   "cell_type": "markdown",
   "id": "veterinary-intensity",
   "metadata": {},
   "source": [
    "\n",
    "browser = webdriver.Chrome(\"/Users/reejungkim/Downloads/chromedriver\")\n",
    "wait = WebDriverWait( driver, 10 )\n",
    "browser.maximize_window()\n"
   ]
  },
  {
   "cell_type": "markdown",
   "id": "expected-ottawa",
   "metadata": {},
   "source": [
    "url = \"https://flight.naver.com/flights/\"\n",
    "browser.get(url)"
   ]
  },
  {
   "cell_type": "code",
   "execution_count": 8,
   "id": "younger-finger",
   "metadata": {},
   "outputs": [],
   "source": [
    "import requests\n",
    "import re\n",
    "from bs4 import BeautifulSoup\n",
    "\n",
    "url = \"https://flight.naver.com/\"\n",
    "headers = {\"User-Agent\":\"Mozilla/5.0 (Windows NT 10.0; Win64; x64) AppleWebKit/537.36 (KHTML, like Gecko) Chrome/91.0.4472.77 Safari/537.36\"}\n",
    "res = requests.get(url, headers=headers)\n",
    "res.raise_for_status()\n",
    "soup = BeautifulSoup(res.text, \"lxml\")"
   ]
  },
  {
   "cell_type": "code",
   "execution_count": null,
   "id": "short-student",
   "metadata": {},
   "outputs": [],
   "source": []
  },
  {
   "cell_type": "code",
   "execution_count": null,
   "id": "backed-solomon",
   "metadata": {},
   "outputs": [],
   "source": [
    "# 가는날 선택\n",
    "browser.find_element_by_link_text(\"가는날 선택\").click()\n",
    "\n",
    "# 이번달 27, 다음달 28일 선택\n",
    "browser.find_elements_by_link_text(\"27\")[0].click() # [0] -> 이번달\n",
    "browser.find_elements_by_link_text(\"28\")[1].click() # [1] -> 다음달\n",
    "\n",
    "# 제주도 항공권 검색\n",
    "browser.find_elements_by_class_name(\"recommendation_navigation_item\")[1].click()\n",
    "browser.find_element_by_xpath(\"//*[@id='recommendationList']/ul/li[1]\").click()\n",
    "browser.find_element_by_link_text(\"항공권 검색\").click()\n",
    "\n",
    "# 항공권 선택\n",
    "try: # 성공하면 수행\n",
    "    elem = WebDriverWait(browser, 10).until(EC.presence_of_element_located((By.XPATH, \"//*[@id='content']/div[2]/div/div[4]/ul/li[1]\")))\n",
    "    print(elem.text)\n",
    "finally:\n",
    "    browser.quit()"
   ]
  }
 ],
 "metadata": {
  "kernelspec": {
   "display_name": "Python 3",
   "language": "python",
   "name": "python3"
  },
  "language_info": {
   "codemirror_mode": {
    "name": "ipython",
    "version": 3
   },
   "file_extension": ".py",
   "mimetype": "text/x-python",
   "name": "python",
   "nbconvert_exporter": "python",
   "pygments_lexer": "ipython3",
   "version": "3.7.0"
  }
 },
 "nbformat": 4,
 "nbformat_minor": 5
}
