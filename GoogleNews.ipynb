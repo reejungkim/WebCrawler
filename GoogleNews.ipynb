{
 "cells": [
  {
   "cell_type": "markdown",
   "metadata": {},
   "source": [
    "https://pypi.org/project/GoogleNews/"
   ]
  },
  {
   "cell_type": "code",
   "execution_count": 1,
   "metadata": {},
   "outputs": [],
   "source": [
    "from GoogleNews import GoogleNews\n",
    "\n",
    "import pandas as pd\n",
    "from pandas import json_normalize"
   ]
  },
  {
   "cell_type": "code",
   "execution_count": 2,
   "metadata": {},
   "outputs": [],
   "source": [
    "googlenews = GoogleNews()\n",
    "#googlenews.clear()\n",
    "googlenews.search('Trump')\n",
    "#googlenews.clear()\n",
    "#googlenews.getpage(8)\n",
    "result1 = googlenews.result()[:5]\n",
    "#print(len(result1), len(result2))"
   ]
  },
  {
   "cell_type": "markdown",
   "metadata": {},
   "source": [
    "for n in range(len(result)):\n",
    "    print(n)\n",
    "    for index in result[n]:\n",
    "        print(index, '\\n', result[n][index])\n",
    "\n",
    "    exit()"
   ]
  },
  {
   "cell_type": "code",
   "execution_count": 3,
   "metadata": {
    "scrolled": true
   },
   "outputs": [
    {
     "data": {
      "text/plain": [
       "[{'title': \"Trump's rally script fell apart\",\n",
       "  'media': 'CNN',\n",
       "  'date': '15시간 전',\n",
       "  'datetime': datetime.datetime(2021, 8, 27, 4, 15, 32, 989807),\n",
       "  'desc': \"Nor was he the only one getting boos that night. The crowd also lustily jeered Alabama Republican Rep. Mo Brooks, one of Trump's close allies, ...\",\n",
       "  'link': 'https://www.cnn.com/2021/08/26/opinions/trump-rally-boos-vaccine-gop-base-hemmer/index.html',\n",
       "  'img': 'data:image/gif;base64,R0lGODlhAQABAIAAAP///////yH5BAEKAAEALAAAAAABAAEAAAICTAEAOw=='},\n",
       " {'title': \"Trump's Pledge to Exit Afghanistan Was a Ruse, His Final ...\",\n",
       "  'media': 'Defense One',\n",
       "  'date': '1주 전',\n",
       "  'datetime': datetime.datetime(2021, 8, 20, 19, 15, 32, 993557),\n",
       "  'desc': \"President Donald Trump's top national security officials never ... when he was acting defense secretary, Miller asserted, many Trump ...\",\n",
       "  'link': 'https://www.defenseone.com/policy/2021/08/trumps-pledge-exit-afghanistan-was-ruse-his-final-secdef-says/184660/',\n",
       "  'img': 'data:image/gif;base64,R0lGODlhAQABAIAAAP///////yH5BAEKAAEALAAAAAABAAEAAAICTAEAOw=='}]"
      ]
     },
     "execution_count": 3,
     "metadata": {},
     "output_type": "execute_result"
    }
   ],
   "source": [
    "result1[:2]"
   ]
  },
  {
   "cell_type": "code",
   "execution_count": 4,
   "metadata": {
    "scrolled": true
   },
   "outputs": [],
   "source": [
    "df = pd.DataFrame.from_dict(json_normalize(result1), orient='columns')"
   ]
  },
  {
   "cell_type": "code",
   "execution_count": 5,
   "metadata": {},
   "outputs": [
    {
     "data": {
      "text/html": [
       "<div>\n",
       "<style scoped>\n",
       "    .dataframe tbody tr th:only-of-type {\n",
       "        vertical-align: middle;\n",
       "    }\n",
       "\n",
       "    .dataframe tbody tr th {\n",
       "        vertical-align: top;\n",
       "    }\n",
       "\n",
       "    .dataframe thead th {\n",
       "        text-align: right;\n",
       "    }\n",
       "</style>\n",
       "<table border=\"1\" class=\"dataframe\">\n",
       "  <thead>\n",
       "    <tr style=\"text-align: right;\">\n",
       "      <th></th>\n",
       "      <th>title</th>\n",
       "      <th>media</th>\n",
       "      <th>date</th>\n",
       "      <th>datetime</th>\n",
       "      <th>desc</th>\n",
       "      <th>link</th>\n",
       "      <th>img</th>\n",
       "    </tr>\n",
       "  </thead>\n",
       "  <tbody>\n",
       "    <tr>\n",
       "      <th>0</th>\n",
       "      <td>Trump's rally script fell apart</td>\n",
       "      <td>CNN</td>\n",
       "      <td>15시간 전</td>\n",
       "      <td>2021-08-27 04:15:32.989807</td>\n",
       "      <td>Nor was he the only one getting boos that nigh...</td>\n",
       "      <td>https://www.cnn.com/2021/08/26/opinions/trump-...</td>\n",
       "      <td>data:image/gif;base64,R0lGODlhAQABAIAAAP//////...</td>\n",
       "    </tr>\n",
       "    <tr>\n",
       "      <th>1</th>\n",
       "      <td>Trump's Pledge to Exit Afghanistan Was a Ruse,...</td>\n",
       "      <td>Defense One</td>\n",
       "      <td>1주 전</td>\n",
       "      <td>2021-08-20 19:15:32.993557</td>\n",
       "      <td>President Donald Trump's top national security...</td>\n",
       "      <td>https://www.defenseone.com/policy/2021/08/trum...</td>\n",
       "      <td>data:image/gif;base64,R0lGODlhAQABAIAAAP//////...</td>\n",
       "    </tr>\n",
       "    <tr>\n",
       "      <th>2</th>\n",
       "      <td>Trumpism Has Entered Its Final Form</td>\n",
       "      <td>The Atlantic</td>\n",
       "      <td>19시간 전</td>\n",
       "      <td>2021-08-27 00:15:32.996721</td>\n",
       "      <td>President Donald Trump at a rally in August 20...</td>\n",
       "      <td>https://www.theatlantic.com/ideas/archive/2021...</td>\n",
       "      <td>data:image/gif;base64,R0lGODlhAQABAIAAAP//////...</td>\n",
       "    </tr>\n",
       "    <tr>\n",
       "      <th>3</th>\n",
       "      <td>Capitol police officers sue Trump and far-righ...</td>\n",
       "      <td>The Guardian</td>\n",
       "      <td>15시간 전</td>\n",
       "      <td>2021-08-27 04:15:32.999613</td>\n",
       "      <td>The suit in federal court in Washington DC all...</td>\n",
       "      <td>https://www.theguardian.com/us-news/2021/aug/2...</td>\n",
       "      <td>data:image/gif;base64,R0lGODlhAQABAIAAAP//////...</td>\n",
       "    </tr>\n",
       "    <tr>\n",
       "      <th>4</th>\n",
       "      <td>Lawyers pursuing Trump fraud claims rebuked fo...</td>\n",
       "      <td>Financial Times</td>\n",
       "      <td>20시간 전</td>\n",
       "      <td>2021-08-26 23:15:33.003091</td>\n",
       "      <td>The decision highlights the continuing fallout...</td>\n",
       "      <td>https://www.ft.com/content/a3e175ef-4d6a-4057-...</td>\n",
       "      <td>data:image/gif;base64,R0lGODlhAQABAIAAAP//////...</td>\n",
       "    </tr>\n",
       "  </tbody>\n",
       "</table>\n",
       "</div>"
      ],
      "text/plain": [
       "                                               title            media    date  \\\n",
       "0                    Trump's rally script fell apart              CNN  15시간 전   \n",
       "1  Trump's Pledge to Exit Afghanistan Was a Ruse,...      Defense One    1주 전   \n",
       "2                Trumpism Has Entered Its Final Form     The Atlantic  19시간 전   \n",
       "3  Capitol police officers sue Trump and far-righ...     The Guardian  15시간 전   \n",
       "4  Lawyers pursuing Trump fraud claims rebuked fo...  Financial Times  20시간 전   \n",
       "\n",
       "                    datetime  \\\n",
       "0 2021-08-27 04:15:32.989807   \n",
       "1 2021-08-20 19:15:32.993557   \n",
       "2 2021-08-27 00:15:32.996721   \n",
       "3 2021-08-27 04:15:32.999613   \n",
       "4 2021-08-26 23:15:33.003091   \n",
       "\n",
       "                                                desc  \\\n",
       "0  Nor was he the only one getting boos that nigh...   \n",
       "1  President Donald Trump's top national security...   \n",
       "2  President Donald Trump at a rally in August 20...   \n",
       "3  The suit in federal court in Washington DC all...   \n",
       "4  The decision highlights the continuing fallout...   \n",
       "\n",
       "                                                link  \\\n",
       "0  https://www.cnn.com/2021/08/26/opinions/trump-...   \n",
       "1  https://www.defenseone.com/policy/2021/08/trum...   \n",
       "2  https://www.theatlantic.com/ideas/archive/2021...   \n",
       "3  https://www.theguardian.com/us-news/2021/aug/2...   \n",
       "4  https://www.ft.com/content/a3e175ef-4d6a-4057-...   \n",
       "\n",
       "                                                 img  \n",
       "0  data:image/gif;base64,R0lGODlhAQABAIAAAP//////...  \n",
       "1  data:image/gif;base64,R0lGODlhAQABAIAAAP//////...  \n",
       "2  data:image/gif;base64,R0lGODlhAQABAIAAAP//////...  \n",
       "3  data:image/gif;base64,R0lGODlhAQABAIAAAP//////...  \n",
       "4  data:image/gif;base64,R0lGODlhAQABAIAAAP//////...  "
      ]
     },
     "execution_count": 5,
     "metadata": {},
     "output_type": "execute_result"
    }
   ],
   "source": [
    "df"
   ]
  },
  {
   "cell_type": "code",
   "execution_count": 6,
   "metadata": {},
   "outputs": [],
   "source": [
    "googlenews.clear()\n",
    "googlenews.search('South Korea')\n",
    "result2 = googlenews.result()[:5]"
   ]
  },
  {
   "cell_type": "code",
   "execution_count": 10,
   "metadata": {},
   "outputs": [
    {
     "data": {
      "text/html": [
       "<div>\n",
       "<style scoped>\n",
       "    .dataframe tbody tr th:only-of-type {\n",
       "        vertical-align: middle;\n",
       "    }\n",
       "\n",
       "    .dataframe tbody tr th {\n",
       "        vertical-align: top;\n",
       "    }\n",
       "\n",
       "    .dataframe thead th {\n",
       "        text-align: right;\n",
       "    }\n",
       "</style>\n",
       "<table border=\"1\" class=\"dataframe\">\n",
       "  <thead>\n",
       "    <tr style=\"text-align: right;\">\n",
       "      <th></th>\n",
       "      <th>title</th>\n",
       "      <th>media</th>\n",
       "      <th>date</th>\n",
       "      <th>datetime</th>\n",
       "      <th>desc</th>\n",
       "      <th>link</th>\n",
       "      <th>img</th>\n",
       "    </tr>\n",
       "  </thead>\n",
       "  <tbody>\n",
       "    <tr>\n",
       "      <th>0</th>\n",
       "      <td>S. Korea to lift entry restrictions on EU, Sch...</td>\n",
       "      <td>아리랑TV</td>\n",
       "      <td>11시간 전</td>\n",
       "      <td>2021-08-27 08:15:37.146451</td>\n",
       "      <td>The same applies for South Korean passport hol...</td>\n",
       "      <td>http://www.arirang.com/News/News_View.asp?sys_...</td>\n",
       "      <td>data:image/gif;base64,R0lGODlhAQABAIAAAP//////...</td>\n",
       "    </tr>\n",
       "    <tr>\n",
       "      <th>1</th>\n",
       "      <td>South Korea's top nuclear envoy to visit US fo...</td>\n",
       "      <td>The Korea Times</td>\n",
       "      <td>5시간 전</td>\n",
       "      <td>2021-08-27 14:15:37.148827</td>\n",
       "      <td>South Korea's top nuclear envoy, Noh Kyu-duk, ...</td>\n",
       "      <td>https://www.koreatimes.co.kr/www/nation/2021/0...</td>\n",
       "      <td>data:image/gif;base64,R0lGODlhAQABAIAAAP//////...</td>\n",
       "    </tr>\n",
       "    <tr>\n",
       "      <th>2</th>\n",
       "      <td>Afghan evacuees in S. Korea arrive at temporar...</td>\n",
       "      <td>Yonhap News Agency</td>\n",
       "      <td>7시간 전</td>\n",
       "      <td>2021-08-27 12:15:37.151026</td>\n",
       "      <td>JINCHEON, South Korea, Aug. 27 (Yonhap) -- Hun...</td>\n",
       "      <td>https://en.yna.co.kr/view/AEN20210827004900315</td>\n",
       "      <td>data:image/gif;base64,R0lGODlhAQABAIAAAP//////...</td>\n",
       "    </tr>\n",
       "    <tr>\n",
       "      <th>3</th>\n",
       "      <td>Remaining 13 Afghan evacuees arrive in South K...</td>\n",
       "      <td>The Korea Herald</td>\n",
       "      <td>1시간 전</td>\n",
       "      <td>2021-08-27 18:15:37.153186</td>\n",
       "      <td>The second and final group of Afghan evacuees ...</td>\n",
       "      <td>http://m.koreaherald.com/amp/view.php?ud=20210...</td>\n",
       "      <td>data:image/gif;base64,R0lGODlhAQABAIAAAP//////...</td>\n",
       "    </tr>\n",
       "    <tr>\n",
       "      <th>4</th>\n",
       "      <td>US military warns troops in South Korea to 'av...</td>\n",
       "      <td>Stars and Stripes</td>\n",
       "      <td>2시간 전</td>\n",
       "      <td>2021-08-27 17:15:37.155540</td>\n",
       "      <td>CAMP HUMPHREYS, South Korea — U.S. Forces Kore...</td>\n",
       "      <td>https://www.stripes.com/covid/2021-08-27/south...</td>\n",
       "      <td>data:image/gif;base64,R0lGODlhAQABAIAAAP//////...</td>\n",
       "    </tr>\n",
       "  </tbody>\n",
       "</table>\n",
       "</div>"
      ],
      "text/plain": [
       "                                               title               media  \\\n",
       "0  S. Korea to lift entry restrictions on EU, Sch...               아리랑TV   \n",
       "1  South Korea's top nuclear envoy to visit US fo...     The Korea Times   \n",
       "2  Afghan evacuees in S. Korea arrive at temporar...  Yonhap News Agency   \n",
       "3  Remaining 13 Afghan evacuees arrive in South K...    The Korea Herald   \n",
       "4  US military warns troops in South Korea to 'av...   Stars and Stripes   \n",
       "\n",
       "     date                   datetime  \\\n",
       "0  11시간 전 2021-08-27 08:15:37.146451   \n",
       "1   5시간 전 2021-08-27 14:15:37.148827   \n",
       "2   7시간 전 2021-08-27 12:15:37.151026   \n",
       "3   1시간 전 2021-08-27 18:15:37.153186   \n",
       "4   2시간 전 2021-08-27 17:15:37.155540   \n",
       "\n",
       "                                                desc  \\\n",
       "0  The same applies for South Korean passport hol...   \n",
       "1  South Korea's top nuclear envoy, Noh Kyu-duk, ...   \n",
       "2  JINCHEON, South Korea, Aug. 27 (Yonhap) -- Hun...   \n",
       "3  The second and final group of Afghan evacuees ...   \n",
       "4  CAMP HUMPHREYS, South Korea — U.S. Forces Kore...   \n",
       "\n",
       "                                                link  \\\n",
       "0  http://www.arirang.com/News/News_View.asp?sys_...   \n",
       "1  https://www.koreatimes.co.kr/www/nation/2021/0...   \n",
       "2     https://en.yna.co.kr/view/AEN20210827004900315   \n",
       "3  http://m.koreaherald.com/amp/view.php?ud=20210...   \n",
       "4  https://www.stripes.com/covid/2021-08-27/south...   \n",
       "\n",
       "                                                 img  \n",
       "0  data:image/gif;base64,R0lGODlhAQABAIAAAP//////...  \n",
       "1  data:image/gif;base64,R0lGODlhAQABAIAAAP//////...  \n",
       "2  data:image/gif;base64,R0lGODlhAQABAIAAAP//////...  \n",
       "3  data:image/gif;base64,R0lGODlhAQABAIAAAP//////...  \n",
       "4  data:image/gif;base64,R0lGODlhAQABAIAAAP//////...  "
      ]
     },
     "execution_count": 10,
     "metadata": {},
     "output_type": "execute_result"
    }
   ],
   "source": [
    "df = pd.DataFrame.from_dict(json_normalize(result2), orient='columns')\n",
    "df"
   ]
  },
  {
   "cell_type": "code",
   "execution_count": 8,
   "metadata": {},
   "outputs": [
    {
     "data": {
      "text/plain": [
       "['http://www.arirang.com/News/News_View.asp?sys_lang=Kor&nseq=282444',\n",
       " 'https://www.koreatimes.co.kr/www/nation/2021/08/113_314600.html',\n",
       " 'https://en.yna.co.kr/view/AEN20210827004900315',\n",
       " 'http://m.koreaherald.com/amp/view.php?ud=20210827000725',\n",
       " 'https://www.stripes.com/covid/2021-08-27/south-korea-coronavirus-covid-19-us-forces-korea-2683412.html',\n",
       " 'https://en.yna.co.kr/view/AEN20210827000600325',\n",
       " 'https://en.yna.co.kr/view/AEN20210825003155325',\n",
       " 'https://en.yna.co.kr/view/AEN20210826008900315',\n",
       " 'https://www.cnbc.com/2021/08/26/south-korea-hikes-interest-rates-the-first-developed-economy-to-do-so-in-pandemic-era.html',\n",
       " 'https://en.yna.co.kr/view/AEN20210827003200320']"
      ]
     },
     "execution_count": 8,
     "metadata": {},
     "output_type": "execute_result"
    }
   ],
   "source": [
    "googlenews.get_links()"
   ]
  },
  {
   "cell_type": "code",
   "execution_count": 12,
   "metadata": {},
   "outputs": [
    {
     "name": "stdout",
     "output_type": "stream",
     "text": [
      "                                               title               media  \\\n",
      "0  Coronavirus Vaccine Research Gets $8 Billion i...  The New York Times   \n",
      "1  CPS announces review findings for first 200 ca...                       \n",
      "2  Coronavirus: Minister defends 'stay alert' adv...                 BBC   \n",
      "3   Chancellor extends furlough scheme until October              GOV.UK   \n",
      "4  Coronavirus in Kenya: Fearing 'money heists' a...                 BBC   \n",
      "\n",
      "           date   datetime                                               desc  \\\n",
      "0   2020. 5. 4. 2020-05-04  The E.U. organized a teleconference to raise m...   \n",
      "1  2020. 5. 15. 2020-05-15  The CPS has committed to reviewing all prosecu...   \n",
      "2  2020. 5. 10. 2020-05-10  Communities Secretary Robert Jenrick has insis...   \n",
      "3  2020. 5. 12. 2020-05-12  Coronavirus Job Retention Scheme will continue...   \n",
      "4   2020. 5. 7. 2020-05-07  The report was a breakdown of how 1.3bn Kenyan...   \n",
      "\n",
      "                                                link  \\\n",
      "0  https://www.nytimes.com/2020/05/04/world/europ...   \n",
      "1  https://www.cps.gov.uk/cps/news/cps-announces-...   \n",
      "2               https://www.bbc.com/news/uk-52605819   \n",
      "3  https://www.gov.uk/government/news/chancellor-...   \n",
      "4     https://www.bbc.com/news/world-africa-52540076   \n",
      "\n",
      "                                                 img  \n",
      "0  data:image/gif;base64,R0lGODlhAQABAIAAAP//////...  \n",
      "1  data:image/gif;base64,R0lGODlhAQABAIAAAP//////...  \n",
      "2  data:image/gif;base64,R0lGODlhAQABAIAAAP//////...  \n",
      "3  data:image/gif;base64,R0lGODlhAQABAIAAAP//////...  \n",
      "4  data:image/gif;base64,R0lGODlhAQABAIAAAP//////...  \n"
     ]
    }
   ],
   "source": [
    "googlenews=GoogleNews(start='05/01/2020',end='05/31/2020')\n",
    "googlenews.search('Coronavirus')\n",
    "result=googlenews.result()\n",
    "df=pd.DataFrame(result)\n",
    "print(df.head())\n"
   ]
  },
  {
   "cell_type": "code",
   "execution_count": null,
   "metadata": {},
   "outputs": [],
   "source": []
  }
 ],
 "metadata": {
  "kernelspec": {
   "display_name": "Python 3",
   "language": "python",
   "name": "python3"
  },
  "language_info": {
   "codemirror_mode": {
    "name": "ipython",
    "version": 3
   },
   "file_extension": ".py",
   "mimetype": "text/x-python",
   "name": "python",
   "nbconvert_exporter": "python",
   "pygments_lexer": "ipython3",
   "version": "3.7.0"
  }
 },
 "nbformat": 4,
 "nbformat_minor": 4
}
