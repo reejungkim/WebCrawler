{
 "cells": [
  {
   "cell_type": "code",
   "execution_count": 37,
   "id": "billion-calgary",
   "metadata": {},
   "outputs": [],
   "source": [
    "import requests\n",
    "import re\n",
    "from bs4 import BeautifulSoup\n",
    "\n",
    "url = \"https://play.google.com/store/apps/details?id=kr.co.welcomebank.omb&hl=ko&gl=US&showAllReviews=true\"\n",
    "headers = {\"User-Agent\":\"Mozilla/5.0 (Windows NT 10.0; Win64; x64) AppleWebKit/537.36 (KHTML, like Gecko) Chrome/91.0.4472.77 Safari/537.36\"}\n",
    "res = requests.get(url, headers=headers)\n",
    "res.raise_for_status()\n",
    "soup = BeautifulSoup(res.text, \"html.parser\")"
   ]
  },
  {
   "cell_type": "code",
   "execution_count": 38,
   "id": "premier-spare",
   "metadata": {},
   "outputs": [],
   "source": [
    "items = soup.find_all(\"div\", attrs={\"jscontroller\" : re.compile(\"H6eOGe\")}) #\"fk8dgd\")})\n"
   ]
  },
  {
   "cell_type": "code",
   "execution_count": 39,
   "id": "original-circle",
   "metadata": {},
   "outputs": [],
   "source": [
    "\n",
    "items = soup.find_all(\"div\", id=\"H6eOGe\")"
   ]
  },
  {
   "cell_type": "code",
   "execution_count": 40,
   "id": "determined-dictionary",
   "metadata": {},
   "outputs": [
    {
     "data": {
      "text/plain": [
       "[]"
      ]
     },
     "execution_count": 40,
     "metadata": {},
     "output_type": "execute_result"
    }
   ],
   "source": [
    "items"
   ]
  }
 ],
 "metadata": {
  "kernelspec": {
   "display_name": "Python 3",
   "language": "python",
   "name": "python3"
  },
  "language_info": {
   "codemirror_mode": {
    "name": "ipython",
    "version": 3
   },
   "file_extension": ".py",
   "mimetype": "text/x-python",
   "name": "python",
   "nbconvert_exporter": "python",
   "pygments_lexer": "ipython3",
   "version": "3.7.0"
  }
 },
 "nbformat": 4,
 "nbformat_minor": 5
}
