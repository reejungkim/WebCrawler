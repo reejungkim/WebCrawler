{
 "cells": [
  {
   "cell_type": "code",
   "execution_count": 24,
   "id": "51774ba2",
   "metadata": {},
   "outputs": [],
   "source": [
    "# 원하는 앱 선택\n",
    "lang='ko' #'en'#'ko'\n",
    "cont='kr'#'kr'\n",
    "loc =  'com.coupang.mobile.eats' #'com.hogangnono.hogangnono' #'kr.co.koreachart.city' #'com.chbreeze.jikbang4a' #'kr.co.twinspace'\n",
    "\n"
   ]
  },
  {
   "cell_type": "code",
   "execution_count": 14,
   "id": "27d1f064",
   "metadata": {},
   "outputs": [],
   "source": [
    "# BeautifulSoup을 이용한 Google PlayStore 앱 소개 페이지 HTML 파싱 함수\n",
    "import requests\n",
    "from bs4 import BeautifulSoup\n",
    "\n",
    "def crawler(lang, cont, loc):\n",
    "    url = 'https://play.google.com/store/apps/details?id='+loc+'&hl='+lang+'&gl='+cont\n",
    "    print(url)\n",
    "    response = requests.get(url)\n",
    "    soup = BeautifulSoup(response.text, 'html.parser')\n",
    "    return (soup)"
   ]
  },
  {
   "cell_type": "markdown",
   "id": "6e60906a",
   "metadata": {},
   "source": [
    "https://play.google.com/store/apps/details?id=kr.co.welcomebank.omb&hl=ko&gl=US&showAllReviews=true"
   ]
  },
  {
   "cell_type": "code",
   "execution_count": 25,
   "id": "0af49d1c",
   "metadata": {},
   "outputs": [],
   "source": [
    "from google_play_scraper import Sort, reviews_all\n",
    "\n",
    "result = reviews_all(\n",
    "    loc,\n",
    "    lang=lang, # defaults to 'en'\n",
    "    country=cont, # defaults to 'us'\n",
    "    sort=Sort.MOST_RELEVANT, # defaults to Sort.MOST_RELEVANT\n",
    "    filter_score_with=5 # defaults to None(means all score)\n",
    ")"
   ]
  },
  {
   "cell_type": "markdown",
   "id": "d06ee2ca",
   "metadata": {},
   "source": [
    "# \n",
    "#! pip install google_play_scraper\n",
    "from google_play_scraper import reviews,  Sort\n",
    "\n",
    "review_all, _ = reviews(\n",
    "    loc,\n",
    "    lang=lang, # defaults to 'en'\n",
    "    country=cont, # defaults to 'us'\n",
    "    sort=Sort.NEWEST, # defaults to Sort.MOST_RELEVANT\n",
    "    #count=3, # defaults to 100\n",
    "    filter_score_with=None # defaults to None(means all score)\n",
    ")\n",
    "review = str(len(review_all))"
   ]
  },
  {
   "cell_type": "markdown",
   "id": "bfb73083",
   "metadata": {},
   "source": [
    "# 필요한 정보만 선별 및 조건에 따른 액션 수행\n",
    "\n",
    "soup = crawler(lang, cont, loc)\n",
    "ratings = soup.find('span','EymY4b').text\n",
    "average = soup.findAll('div', 'BHMmbe')[0].string\n",
    "\n",
    "msg =  \"[Google Play store] 평점 : \"+ average + \" / 평가개수 : \"+ ratings + \" / 리뷰개수 : \"+ review\n",
    "myTeamsMessage.text(msg)\n",
    "myTeamsMessage.send()\n",
    "\n",
    "for i in range(0,len(review_all)):\n",
    "    if review_all[i]['replyContent'] != None:\n",
    "        pass\n",
    "    else:\n",
    "        score = str(review_all[i]['score'])\n",
    "        userid = review_all[i]['userName']\n",
    "        time = review_all[i]['at'].strftime(\"%Y/%m/%d %H:%M\")\n",
    "        content = review_all[i]['content']\n",
    "        alarm = \"[Google Play store] 개발자 답글이 필요한 리뷰가 추가되었습니다. / 점수 : \"+score+\" / 아이디 : \"+userid+\" / 시간 : \"+time+\" / 내용 : \"+contents\n",
    "        myTeamsMessage.text(alarm)\n",
    "        myTeamsMessage.send()"
   ]
  },
  {
   "cell_type": "code",
   "execution_count": 28,
   "id": "3f0ca355",
   "metadata": {},
   "outputs": [],
   "source": [
    "import pandas as pd\n",
    "df = pd.DataFrame(result)\n",
    "#df.to_csv('hogangnono_review.csv')"
   ]
  },
  {
   "cell_type": "code",
   "execution_count": 29,
   "id": "dc03d0a5",
   "metadata": {},
   "outputs": [
    {
     "data": {
      "text/html": [
       "<div>\n",
       "<style scoped>\n",
       "    .dataframe tbody tr th:only-of-type {\n",
       "        vertical-align: middle;\n",
       "    }\n",
       "\n",
       "    .dataframe tbody tr th {\n",
       "        vertical-align: top;\n",
       "    }\n",
       "\n",
       "    .dataframe thead th {\n",
       "        text-align: right;\n",
       "    }\n",
       "</style>\n",
       "<table border=\"1\" class=\"dataframe\">\n",
       "  <thead>\n",
       "    <tr style=\"text-align: right;\">\n",
       "      <th></th>\n",
       "      <th>reviewId</th>\n",
       "      <th>userName</th>\n",
       "      <th>userImage</th>\n",
       "      <th>content</th>\n",
       "      <th>score</th>\n",
       "      <th>thumbsUpCount</th>\n",
       "      <th>reviewCreatedVersion</th>\n",
       "      <th>at</th>\n",
       "      <th>replyContent</th>\n",
       "      <th>repliedAt</th>\n",
       "    </tr>\n",
       "  </thead>\n",
       "  <tbody>\n",
       "    <tr>\n",
       "      <th>0</th>\n",
       "      <td>64a0a0a5-2450-425a-9e6a-f8714dfef54d</td>\n",
       "      <td>j.s K</td>\n",
       "      <td>https://play-lh.googleusercontent.com/a/AEdFTp...</td>\n",
       "      <td>자취 10년 이상된 입장에서 써요. 많이 시켜먹음. 타사앱 다 사용중이고 주관적 평...</td>\n",
       "      <td>5</td>\n",
       "      <td>20</td>\n",
       "      <td>1.3.77</td>\n",
       "      <td>2022-12-13 20:24:23</td>\n",
       "      <td>안녕하세요, 쿠팡이츠 입니다.\\n\\n먼저 쿠팡이츠 APP을 이용하시는 과정에 불편을...</td>\n",
       "      <td>2022-12-22 14:23:23</td>\n",
       "    </tr>\n",
       "    <tr>\n",
       "      <th>1</th>\n",
       "      <td>2b4001ec-9b98-4bf1-b57a-062db2a30f84</td>\n",
       "      <td>조현진</td>\n",
       "      <td>https://play-lh.googleusercontent.com/a/AEdFTp...</td>\n",
       "      <td>이번에 함께주문 기능 넣은건 엄청 유용한 기능이라고 생각해요 평소에 에타같은 커뮤니...</td>\n",
       "      <td>5</td>\n",
       "      <td>5</td>\n",
       "      <td>1.3.63</td>\n",
       "      <td>2022-10-04 18:10:48</td>\n",
       "      <td>None</td>\n",
       "      <td>NaT</td>\n",
       "    </tr>\n",
       "    <tr>\n",
       "      <th>2</th>\n",
       "      <td>3d828e63-4632-41dc-91d9-c416f4a7f036</td>\n",
       "      <td>알렁가몰렁</td>\n",
       "      <td>https://play-lh.googleusercontent.com/a-/AD5-W...</td>\n",
       "      <td>카테고리에서 메뉴 이동 화면 제발 카테고리 (ex.한마리 치킨) 누르면 메뉴(ex....</td>\n",
       "      <td>5</td>\n",
       "      <td>42</td>\n",
       "      <td>1.3.64</td>\n",
       "      <td>2022-09-20 19:36:25</td>\n",
       "      <td>None</td>\n",
       "      <td>NaT</td>\n",
       "    </tr>\n",
       "    <tr>\n",
       "      <th>3</th>\n",
       "      <td>ec57b5b0-6230-49da-8eb7-4a23023a425c</td>\n",
       "      <td>의성</td>\n",
       "      <td>https://play-lh.googleusercontent.com/a-/AD5-W...</td>\n",
       "      <td>좋았던점 - 직관적, 편리함, 신속함 - 집과 얼마나 떨어져 있는 가게인지 알수 있...</td>\n",
       "      <td>5</td>\n",
       "      <td>12</td>\n",
       "      <td>1.1.27</td>\n",
       "      <td>2020-08-08 20:08:56</td>\n",
       "      <td>None</td>\n",
       "      <td>NaT</td>\n",
       "    </tr>\n",
       "    <tr>\n",
       "      <th>4</th>\n",
       "      <td>5ce25822-31ad-46bd-bff9-59dfbbb3d58e</td>\n",
       "      <td>김파트라슈</td>\n",
       "      <td>https://play-lh.googleusercontent.com/a-/AD5-W...</td>\n",
       "      <td>배달앱중 역대급인듯...? 아직 입점이 많이 안되서 그렇지(그래도 유명한곳 다있음)...</td>\n",
       "      <td>5</td>\n",
       "      <td>13</td>\n",
       "      <td>1.1.24</td>\n",
       "      <td>2020-07-19 15:17:20</td>\n",
       "      <td>None</td>\n",
       "      <td>NaT</td>\n",
       "    </tr>\n",
       "  </tbody>\n",
       "</table>\n",
       "</div>"
      ],
      "text/plain": [
       "                               reviewId userName  \\\n",
       "0  64a0a0a5-2450-425a-9e6a-f8714dfef54d    j.s K   \n",
       "1  2b4001ec-9b98-4bf1-b57a-062db2a30f84      조현진   \n",
       "2  3d828e63-4632-41dc-91d9-c416f4a7f036    알렁가몰렁   \n",
       "3  ec57b5b0-6230-49da-8eb7-4a23023a425c       의성   \n",
       "4  5ce25822-31ad-46bd-bff9-59dfbbb3d58e    김파트라슈   \n",
       "\n",
       "                                           userImage  \\\n",
       "0  https://play-lh.googleusercontent.com/a/AEdFTp...   \n",
       "1  https://play-lh.googleusercontent.com/a/AEdFTp...   \n",
       "2  https://play-lh.googleusercontent.com/a-/AD5-W...   \n",
       "3  https://play-lh.googleusercontent.com/a-/AD5-W...   \n",
       "4  https://play-lh.googleusercontent.com/a-/AD5-W...   \n",
       "\n",
       "                                             content  score  thumbsUpCount  \\\n",
       "0  자취 10년 이상된 입장에서 써요. 많이 시켜먹음. 타사앱 다 사용중이고 주관적 평...      5             20   \n",
       "1  이번에 함께주문 기능 넣은건 엄청 유용한 기능이라고 생각해요 평소에 에타같은 커뮤니...      5              5   \n",
       "2  카테고리에서 메뉴 이동 화면 제발 카테고리 (ex.한마리 치킨) 누르면 메뉴(ex....      5             42   \n",
       "3  좋았던점 - 직관적, 편리함, 신속함 - 집과 얼마나 떨어져 있는 가게인지 알수 있...      5             12   \n",
       "4  배달앱중 역대급인듯...? 아직 입점이 많이 안되서 그렇지(그래도 유명한곳 다있음)...      5             13   \n",
       "\n",
       "  reviewCreatedVersion                  at  \\\n",
       "0               1.3.77 2022-12-13 20:24:23   \n",
       "1               1.3.63 2022-10-04 18:10:48   \n",
       "2               1.3.64 2022-09-20 19:36:25   \n",
       "3               1.1.27 2020-08-08 20:08:56   \n",
       "4               1.1.24 2020-07-19 15:17:20   \n",
       "\n",
       "                                        replyContent           repliedAt  \n",
       "0  안녕하세요, 쿠팡이츠 입니다.\\n\\n먼저 쿠팡이츠 APP을 이용하시는 과정에 불편을... 2022-12-22 14:23:23  \n",
       "1                                               None                 NaT  \n",
       "2                                               None                 NaT  \n",
       "3                                               None                 NaT  \n",
       "4                                               None                 NaT  "
      ]
     },
     "execution_count": 29,
     "metadata": {},
     "output_type": "execute_result"
    }
   ],
   "source": [
    "df.head()"
   ]
  },
  {
   "cell_type": "code",
   "execution_count": 30,
   "id": "9ea534df",
   "metadata": {},
   "outputs": [
    {
     "data": {
      "text/plain": [
       "16503"
      ]
     },
     "execution_count": 30,
     "metadata": {},
     "output_type": "execute_result"
    }
   ],
   "source": [
    "len(df)"
   ]
  },
  {
   "cell_type": "code",
   "execution_count": null,
   "id": "43a4f229",
   "metadata": {},
   "outputs": [],
   "source": []
  }
 ],
 "metadata": {
  "kernelspec": {
   "display_name": "Python 3 (ipykernel)",
   "language": "python",
   "name": "python3"
  },
  "language_info": {
   "codemirror_mode": {
    "name": "ipython",
    "version": 3
   },
   "file_extension": ".py",
   "mimetype": "text/x-python",
   "name": "python",
   "nbconvert_exporter": "python",
   "pygments_lexer": "ipython3",
   "version": "3.7.13"
  }
 },
 "nbformat": 4,
 "nbformat_minor": 5
}
