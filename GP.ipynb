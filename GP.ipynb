{
 "cells": [
  {
   "cell_type": "code",
   "execution_count": 31,
   "id": "51774ba2",
   "metadata": {},
   "outputs": [],
   "source": [
    "# 원하는 앱 선택\n",
    "lang='ko' #'en'\n",
    "cont='kr'#'kr'\n",
    "loc =  'com.coupang.mobile.eats' #'com.hogangnono.hogangnono' #'kr.co.koreachart.city' #'com.chbreeze.jikbang4a' #'kr.co.twinspace'\n",
    "\n",
    "output_filename = 'coupang_ko_Kr'"
   ]
  },
  {
   "cell_type": "code",
   "execution_count": null,
   "id": "97ebc014",
   "metadata": {},
   "outputs": [],
   "source": []
  },
  {
   "cell_type": "code",
   "execution_count": 32,
   "id": "27d1f064",
   "metadata": {},
   "outputs": [],
   "source": [
    "# BeautifulSoup을 이용한 Google PlayStore 앱 소개 페이지 HTML 파싱 함수\n",
    "import requests\n",
    "from bs4 import BeautifulSoup\n",
    "\n",
    "def crawler(lang, cont, loc):\n",
    "    url = 'https://play.google.com/store/apps/details?id='+loc+'&hl='+lang+'&gl='+cont\n",
    "    print(url)\n",
    "    response = requests.get(url)\n",
    "    soup = BeautifulSoup(response.text, 'html.parser')\n",
    "    return (soup)"
   ]
  },
  {
   "cell_type": "markdown",
   "id": "6e60906a",
   "metadata": {},
   "source": [
    "https://play.google.com/store/apps/details?id=kr.co.welcomebank.omb&hl=ko&gl=US&showAllReviews=true"
   ]
  },
  {
   "cell_type": "code",
   "execution_count": 38,
   "id": "0af49d1c",
   "metadata": {},
   "outputs": [],
   "source": [
    "%%time \n",
    "from google_play_scraper import Sort, reviews_all\n",
    "\n",
    "result = reviews_all(\n",
    "    loc,\n",
    "    lang=lang, # defaults to 'en'\n",
    "    country=cont, # defaults to 'us'\n",
    "    sort=Sort.NEWEST, # defaults to Sort.MOST_RELEVANT\n",
    "    filter_score_with=5 # defaults to None(means all score)\n",
    ")"
   ]
  },
  {
   "cell_type": "markdown",
   "id": "d06ee2ca",
   "metadata": {},
   "source": [
    "# \n",
    "#! pip install google_play_scraper\n",
    "from google_play_scraper import reviews,  Sort\n",
    "\n",
    "review_all, _ = reviews(\n",
    "    loc,\n",
    "    lang=lang, # defaults to 'en'\n",
    "    country=cont, # defaults to 'us'\n",
    "    sort=Sort.NEWEST, # defaults to Sort.MOST_RELEVANT\n",
    "    #count=3, # defaults to 100\n",
    "    filter_score_with=None # defaults to None(means all score)\n",
    ")\n",
    "review = str(len(review_all))"
   ]
  },
  {
   "cell_type": "markdown",
   "id": "bfb73083",
   "metadata": {},
   "source": [
    "# 필요한 정보만 선별 및 조건에 따른 액션 수행\n",
    "\n",
    "soup = crawler(lang, cont, loc)\n",
    "ratings = soup.find('span','EymY4b').text\n",
    "average = soup.findAll('div', 'BHMmbe')[0].string\n",
    "\n",
    "msg =  \"[Google Play store] 평점 : \"+ average + \" / 평가개수 : \"+ ratings + \" / 리뷰개수 : \"+ review\n",
    "myTeamsMessage.text(msg)\n",
    "myTeamsMessage.send()\n",
    "\n",
    "for i in range(0,len(review_all)):\n",
    "    if review_all[i]['replyContent'] != None:\n",
    "        pass\n",
    "    else:\n",
    "        score = str(review_all[i]['score'])\n",
    "        userid = review_all[i]['userName']\n",
    "        time = review_all[i]['at'].strftime(\"%Y/%m/%d %H:%M\")\n",
    "        content = review_all[i]['content']\n",
    "        alarm = \"[Google Play store] 개발자 답글이 필요한 리뷰가 추가되었습니다. / 점수 : \"+score+\" / 아이디 : \"+userid+\" / 시간 : \"+time+\" / 내용 : \"+contents\n",
    "        myTeamsMessage.text(alarm)\n",
    "        myTeamsMessage.send()"
   ]
  },
  {
   "cell_type": "code",
   "execution_count": 40,
   "id": "3f0ca355",
   "metadata": {},
   "outputs": [],
   "source": [
    "import pandas as pd\n",
    "df = pd.DataFrame(result)\n"
   ]
  },
  {
   "cell_type": "code",
   "execution_count": 41,
   "id": "dc03d0a5",
   "metadata": {},
   "outputs": [
    {
     "data": {
      "text/html": [
       "<div>\n",
       "<style scoped>\n",
       "    .dataframe tbody tr th:only-of-type {\n",
       "        vertical-align: middle;\n",
       "    }\n",
       "\n",
       "    .dataframe tbody tr th {\n",
       "        vertical-align: top;\n",
       "    }\n",
       "\n",
       "    .dataframe thead th {\n",
       "        text-align: right;\n",
       "    }\n",
       "</style>\n",
       "<table border=\"1\" class=\"dataframe\">\n",
       "  <thead>\n",
       "    <tr style=\"text-align: right;\">\n",
       "      <th></th>\n",
       "      <th>reviewId</th>\n",
       "      <th>userName</th>\n",
       "      <th>userImage</th>\n",
       "      <th>content</th>\n",
       "      <th>score</th>\n",
       "      <th>thumbsUpCount</th>\n",
       "      <th>reviewCreatedVersion</th>\n",
       "      <th>at</th>\n",
       "      <th>replyContent</th>\n",
       "      <th>repliedAt</th>\n",
       "    </tr>\n",
       "  </thead>\n",
       "  <tbody>\n",
       "    <tr>\n",
       "      <th>0</th>\n",
       "      <td>fc144a28-2fbb-49b2-a67d-c6e3951d0026</td>\n",
       "      <td>방성희</td>\n",
       "      <td>https://play-lh.googleusercontent.com/a-/AD5-W...</td>\n",
       "      <td>맛나요</td>\n",
       "      <td>5</td>\n",
       "      <td>0</td>\n",
       "      <td>1.3.79</td>\n",
       "      <td>2023-01-02 15:23:31</td>\n",
       "      <td>안녕하세요 쿠팡이츠입니다.\\n\\n고객님께 만족스러운 경험을 제공하여 기쁘고 감사합니...</td>\n",
       "      <td>2023-01-02 16:33:53</td>\n",
       "    </tr>\n",
       "    <tr>\n",
       "      <th>1</th>\n",
       "      <td>029c9052-68d8-4cc4-b25a-3caae047fcf4</td>\n",
       "      <td>전재연</td>\n",
       "      <td>https://play-lh.googleusercontent.com/a/AEdFTp...</td>\n",
       "      <td>좋아요</td>\n",
       "      <td>5</td>\n",
       "      <td>0</td>\n",
       "      <td>1.3.79</td>\n",
       "      <td>2023-01-02 14:07:33</td>\n",
       "      <td>안녕하세요, 쿠팡이츠 입니다.\\n\\n쿠팡이츠는 한층 더 강화된 서비스를 제공하며, ...</td>\n",
       "      <td>2023-01-02 16:33:31</td>\n",
       "    </tr>\n",
       "    <tr>\n",
       "      <th>2</th>\n",
       "      <td>506f83dd-f36f-4f94-bf59-3c010805ff2b</td>\n",
       "      <td>홍길동</td>\n",
       "      <td>https://play-lh.googleusercontent.com/a/AEdFTp...</td>\n",
       "      <td>할인쿠폰 있어서 좋아요</td>\n",
       "      <td>5</td>\n",
       "      <td>0</td>\n",
       "      <td>1.3.79</td>\n",
       "      <td>2023-01-02 14:07:10</td>\n",
       "      <td>안녕하세요, 쿠팡이츠 입니다.\\n\\n애정 어린 소중한 말씀 시간 내어 남겨주셔서 정...</td>\n",
       "      <td>2023-01-02 16:33:09</td>\n",
       "    </tr>\n",
       "    <tr>\n",
       "      <th>3</th>\n",
       "      <td>c324e045-e7bd-4c1c-aa1d-baa3b6b1cb92</td>\n",
       "      <td>David Kim</td>\n",
       "      <td>https://play-lh.googleusercontent.com/a/AEdFTp...</td>\n",
       "      <td>덕분에 코로나 잘 넘겼어요</td>\n",
       "      <td>5</td>\n",
       "      <td>0</td>\n",
       "      <td>1.3.79</td>\n",
       "      <td>2023-01-02 00:12:54</td>\n",
       "      <td>안녕하세요, 쿠팡이츠 입니다.\\n\\n쿠팡이츠는 한 집 배달을 원칙으로 한층 더 강화...</td>\n",
       "      <td>2023-01-02 16:28:26</td>\n",
       "    </tr>\n",
       "    <tr>\n",
       "      <th>4</th>\n",
       "      <td>0364a14e-d574-4969-ac27-bfc9dbd945e7</td>\n",
       "      <td>HJ LEE</td>\n",
       "      <td>https://play-lh.googleusercontent.com/a-/AD5-W...</td>\n",
       "      <td>시각적으로 편리하고, 생활에 긍정적인 도움이 됩니다!</td>\n",
       "      <td>5</td>\n",
       "      <td>0</td>\n",
       "      <td>None</td>\n",
       "      <td>2023-01-01 22:57:47</td>\n",
       "      <td>안녕하세요 쿠팡이츠입니다.\\n\\n고객님께 만족스러운 경험을 제공하여 기쁘고 감사합니...</td>\n",
       "      <td>2023-01-02 16:27:55</td>\n",
       "    </tr>\n",
       "  </tbody>\n",
       "</table>\n",
       "</div>"
      ],
      "text/plain": [
       "                               reviewId   userName  \\\n",
       "0  fc144a28-2fbb-49b2-a67d-c6e3951d0026        방성희   \n",
       "1  029c9052-68d8-4cc4-b25a-3caae047fcf4        전재연   \n",
       "2  506f83dd-f36f-4f94-bf59-3c010805ff2b        홍길동   \n",
       "3  c324e045-e7bd-4c1c-aa1d-baa3b6b1cb92  David Kim   \n",
       "4  0364a14e-d574-4969-ac27-bfc9dbd945e7     HJ LEE   \n",
       "\n",
       "                                           userImage  \\\n",
       "0  https://play-lh.googleusercontent.com/a-/AD5-W...   \n",
       "1  https://play-lh.googleusercontent.com/a/AEdFTp...   \n",
       "2  https://play-lh.googleusercontent.com/a/AEdFTp...   \n",
       "3  https://play-lh.googleusercontent.com/a/AEdFTp...   \n",
       "4  https://play-lh.googleusercontent.com/a-/AD5-W...   \n",
       "\n",
       "                         content  score  thumbsUpCount reviewCreatedVersion  \\\n",
       "0                            맛나요      5              0               1.3.79   \n",
       "1                            좋아요      5              0               1.3.79   \n",
       "2                   할인쿠폰 있어서 좋아요      5              0               1.3.79   \n",
       "3                 덕분에 코로나 잘 넘겼어요      5              0               1.3.79   \n",
       "4  시각적으로 편리하고, 생활에 긍정적인 도움이 됩니다!      5              0                 None   \n",
       "\n",
       "                   at                                       replyContent  \\\n",
       "0 2023-01-02 15:23:31  안녕하세요 쿠팡이츠입니다.\\n\\n고객님께 만족스러운 경험을 제공하여 기쁘고 감사합니...   \n",
       "1 2023-01-02 14:07:33  안녕하세요, 쿠팡이츠 입니다.\\n\\n쿠팡이츠는 한층 더 강화된 서비스를 제공하며, ...   \n",
       "2 2023-01-02 14:07:10  안녕하세요, 쿠팡이츠 입니다.\\n\\n애정 어린 소중한 말씀 시간 내어 남겨주셔서 정...   \n",
       "3 2023-01-02 00:12:54  안녕하세요, 쿠팡이츠 입니다.\\n\\n쿠팡이츠는 한 집 배달을 원칙으로 한층 더 강화...   \n",
       "4 2023-01-01 22:57:47  안녕하세요 쿠팡이츠입니다.\\n\\n고객님께 만족스러운 경험을 제공하여 기쁘고 감사합니...   \n",
       "\n",
       "            repliedAt  \n",
       "0 2023-01-02 16:33:53  \n",
       "1 2023-01-02 16:33:31  \n",
       "2 2023-01-02 16:33:09  \n",
       "3 2023-01-02 16:28:26  \n",
       "4 2023-01-02 16:27:55  "
      ]
     },
     "execution_count": 41,
     "metadata": {},
     "output_type": "execute_result"
    }
   ],
   "source": [
    "df.head()"
   ]
  },
  {
   "cell_type": "code",
   "execution_count": 42,
   "id": "9ea534df",
   "metadata": {},
   "outputs": [
    {
     "data": {
      "text/plain": [
       "17815"
      ]
     },
     "execution_count": 42,
     "metadata": {},
     "output_type": "execute_result"
    }
   ],
   "source": [
    "len(df)"
   ]
  },
  {
   "cell_type": "code",
   "execution_count": 43,
   "id": "43a4f229",
   "metadata": {},
   "outputs": [],
   "source": [
    "df.to_csv(output_filename+'.csv')"
   ]
  },
  {
   "cell_type": "code",
   "execution_count": null,
   "id": "b9660d64",
   "metadata": {},
   "outputs": [],
   "source": []
  }
 ],
 "metadata": {
  "kernelspec": {
   "display_name": "Python 3 (ipykernel)",
   "language": "python",
   "name": "python3"
  },
  "language_info": {
   "codemirror_mode": {
    "name": "ipython",
    "version": 3
   },
   "file_extension": ".py",
   "mimetype": "text/x-python",
   "name": "python",
   "nbconvert_exporter": "python",
   "pygments_lexer": "ipython3",
   "version": "3.7.13"
  }
 },
 "nbformat": 4,
 "nbformat_minor": 5
}
