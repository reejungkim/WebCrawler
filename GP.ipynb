{
 "cells": [
  {
   "cell_type": "code",
   "execution_count": 77,
   "id": "51774ba2",
   "metadata": {},
   "outputs": [],
   "source": [
    "# 원하는 앱 선택\n",
    "lang='ko' #'en'\n",
    "cont='kr'#'kr'\n",
    "loc = 'com.coupang.mobile.eats.courier'  #'com.coupang.mobile.eats' #'com.coupang.mobile.eats.courier' #'com.hogangnono.hogangnono' #'kr.co.koreachart.city' #'com.chbreeze.jikbang4a' #'kr.co.twinspace'\n",
    "\n",
    "output_filename = 'coupang_eats_courier_ko_kr'"
   ]
  },
  {
   "cell_type": "code",
   "execution_count": null,
   "id": "97ebc014",
   "metadata": {},
   "outputs": [],
   "source": []
  },
  {
   "cell_type": "code",
   "execution_count": 78,
   "id": "27d1f064",
   "metadata": {},
   "outputs": [],
   "source": [
    "# BeautifulSoup을 이용한 Google PlayStore 앱 소개 페이지 HTML 파싱 함수\n",
    "import requests\n",
    "from bs4 import BeautifulSoup\n",
    "\n",
    "def crawler(lang, cont, loc):\n",
    "    url = 'https://play.google.com/store/apps/details?id='+loc+'&hl='+lang+'&gl='+cont\n",
    "    print(url)\n",
    "    response = requests.get(url)\n",
    "    soup = BeautifulSoup(response.text, 'html.parser')\n",
    "    return (soup)"
   ]
  },
  {
   "cell_type": "markdown",
   "id": "6e60906a",
   "metadata": {},
   "source": [
    "https://play.google.com/store/apps/details?id=kr.co.welcomebank.omb&hl=ko&gl=US&showAllReviews=true"
   ]
  },
  {
   "cell_type": "code",
   "execution_count": 79,
   "id": "0af49d1c",
   "metadata": {},
   "outputs": [
    {
     "name": "stdout",
     "output_type": "stream",
     "text": [
      "CPU times: user 830 ms, sys: 278 ms, total: 1.11 s\n",
      "Wall time: 13.9 s\n"
     ]
    }
   ],
   "source": [
    "%%time \n",
    "from google_play_scraper import Sort, reviews_all\n",
    "\n",
    "result = reviews_all(\n",
    "    loc,\n",
    "    lang=lang, # defaults to 'en'\n",
    "    country=cont, # defaults to 'us'\n",
    "    sort=Sort.NEWEST, # defaults to Sort.MOST_RELEVANT\n",
    "    filter_score_with= None#5 # defaults to None(means all score)\n",
    ")"
   ]
  },
  {
   "cell_type": "markdown",
   "id": "d06ee2ca",
   "metadata": {},
   "source": [
    "# \n",
    "#! pip install google_play_scraper\n",
    "from google_play_scraper import reviews,  Sort\n",
    "\n",
    "review_all, _ = reviews(\n",
    "    loc,\n",
    "    lang=lang, # defaults to 'en'\n",
    "    country=cont, # defaults to 'us'\n",
    "    sort=Sort.NEWEST, # defaults to Sort.MOST_RELEVANT\n",
    "    #count=3, # defaults to 100\n",
    "    filter_score_with=None # defaults to None(means all score)\n",
    ")\n",
    "review = str(len(review_all))"
   ]
  },
  {
   "cell_type": "markdown",
   "id": "bfb73083",
   "metadata": {},
   "source": [
    "# 필요한 정보만 선별 및 조건에 따른 액션 수행\n",
    "\n",
    "soup = crawler(lang, cont, loc)\n",
    "ratings = soup.find('span','EymY4b').text\n",
    "average = soup.findAll('div', 'BHMmbe')[0].string\n",
    "\n",
    "msg =  \"[Google Play store] 평점 : \"+ average + \" / 평가개수 : \"+ ratings + \" / 리뷰개수 : \"+ review\n",
    "myTeamsMessage.text(msg)\n",
    "myTeamsMessage.send()\n",
    "\n",
    "for i in range(0,len(review_all)):\n",
    "    if review_all[i]['replyContent'] != None:\n",
    "        pass\n",
    "    else:\n",
    "        score = str(review_all[i]['score'])\n",
    "        userid = review_all[i]['userName']\n",
    "        time = review_all[i]['at'].strftime(\"%Y/%m/%d %H:%M\")\n",
    "        content = review_all[i]['content']\n",
    "        alarm = \"[Google Play store] 개발자 답글이 필요한 리뷰가 추가되었습니다. / 점수 : \"+score+\" / 아이디 : \"+userid+\" / 시간 : \"+time+\" / 내용 : \"+contents\n",
    "        myTeamsMessage.text(alarm)\n",
    "        myTeamsMessage.send()"
   ]
  },
  {
   "cell_type": "code",
   "execution_count": 80,
   "id": "3f0ca355",
   "metadata": {},
   "outputs": [],
   "source": [
    "import pandas as pd\n",
    "df = pd.DataFrame(result)\n"
   ]
  },
  {
   "cell_type": "code",
   "execution_count": 81,
   "id": "dc03d0a5",
   "metadata": {},
   "outputs": [
    {
     "data": {
      "text/html": [
       "<div>\n",
       "<style scoped>\n",
       "    .dataframe tbody tr th:only-of-type {\n",
       "        vertical-align: middle;\n",
       "    }\n",
       "\n",
       "    .dataframe tbody tr th {\n",
       "        vertical-align: top;\n",
       "    }\n",
       "\n",
       "    .dataframe thead th {\n",
       "        text-align: right;\n",
       "    }\n",
       "</style>\n",
       "<table border=\"1\" class=\"dataframe\">\n",
       "  <thead>\n",
       "    <tr style=\"text-align: right;\">\n",
       "      <th></th>\n",
       "      <th>reviewId</th>\n",
       "      <th>userName</th>\n",
       "      <th>userImage</th>\n",
       "      <th>content</th>\n",
       "      <th>score</th>\n",
       "      <th>thumbsUpCount</th>\n",
       "      <th>reviewCreatedVersion</th>\n",
       "      <th>at</th>\n",
       "      <th>replyContent</th>\n",
       "      <th>repliedAt</th>\n",
       "    </tr>\n",
       "  </thead>\n",
       "  <tbody>\n",
       "    <tr>\n",
       "      <th>0</th>\n",
       "      <td>15a29dad-42cf-41f1-b584-e39d979e54fe</td>\n",
       "      <td>chrise</td>\n",
       "      <td>https://play-lh.googleusercontent.com/a/AEdFTp...</td>\n",
       "      <td>제가 04년생이라 이제 막 성인이 되었는데 미성년자라고 가입이 안된다네요 어떻게 된...</td>\n",
       "      <td>2</td>\n",
       "      <td>0</td>\n",
       "      <td>2.0.20</td>\n",
       "      <td>2023-01-02 13:34:38</td>\n",
       "      <td>안녕하세요, 쿠팡이츠 입니다.\\n\\n쿠팡이츠 이용에 불편이 있으셨다면 사과 말씀드립...</td>\n",
       "      <td>2023-01-02 16:31:44</td>\n",
       "    </tr>\n",
       "    <tr>\n",
       "      <th>1</th>\n",
       "      <td>b280b000-de67-48d9-9b2b-3f41253b207e</td>\n",
       "      <td>ᄀᄂ</td>\n",
       "      <td>https://play-lh.googleusercontent.com/a/AEdFTp...</td>\n",
       "      <td>너무조아요</td>\n",
       "      <td>5</td>\n",
       "      <td>0</td>\n",
       "      <td>1.1.27</td>\n",
       "      <td>2023-01-02 10:54:40</td>\n",
       "      <td>None</td>\n",
       "      <td>NaT</td>\n",
       "    </tr>\n",
       "    <tr>\n",
       "      <th>2</th>\n",
       "      <td>af53927f-8bf1-476b-a634-81837e87c2c4</td>\n",
       "      <td>이정선</td>\n",
       "      <td>https://play-lh.googleusercontent.com/a/AEdFTp...</td>\n",
       "      <td>18181818 10 3 노가다 보다 힘들다</td>\n",
       "      <td>1</td>\n",
       "      <td>7</td>\n",
       "      <td>2.0.20</td>\n",
       "      <td>2023-01-01 21:43:11</td>\n",
       "      <td>None</td>\n",
       "      <td>NaT</td>\n",
       "    </tr>\n",
       "    <tr>\n",
       "      <th>3</th>\n",
       "      <td>5873fc17-416a-4bae-b906-d62703f65ca3</td>\n",
       "      <td>블루스타</td>\n",
       "      <td>https://play-lh.googleusercontent.com/a-/AD5-W...</td>\n",
       "      <td>2500원은 너무한거 아니냐고.. 하루에 4만원 벌려고 하루종일일했네 진짜 너무하다...</td>\n",
       "      <td>1</td>\n",
       "      <td>0</td>\n",
       "      <td>2.0.20</td>\n",
       "      <td>2023-01-01 10:15:46</td>\n",
       "      <td>None</td>\n",
       "      <td>NaT</td>\n",
       "    </tr>\n",
       "    <tr>\n",
       "      <th>4</th>\n",
       "      <td>bcff2042-f0b7-4097-a15d-d7117b4a6372</td>\n",
       "      <td>명훈</td>\n",
       "      <td>https://play-lh.googleusercontent.com/a/AEdFTp...</td>\n",
       "      <td>콜을 수락 할 수 없게 버그가 엄청 심하네요 첫 배달 점심피크 겨우 2개하고 퇴근.</td>\n",
       "      <td>1</td>\n",
       "      <td>1</td>\n",
       "      <td>2.0.20</td>\n",
       "      <td>2022-12-31 09:00:10</td>\n",
       "      <td>안녕하세요, 쿠팡이츠 입니다.\\n\\n먼저 쿠팡이츠 배달파트너 APP을 이용하시는 과...</td>\n",
       "      <td>2023-01-02 11:38:04</td>\n",
       "    </tr>\n",
       "  </tbody>\n",
       "</table>\n",
       "</div>"
      ],
      "text/plain": [
       "                               reviewId userName  \\\n",
       "0  15a29dad-42cf-41f1-b584-e39d979e54fe   chrise   \n",
       "1  b280b000-de67-48d9-9b2b-3f41253b207e       ᄀᄂ   \n",
       "2  af53927f-8bf1-476b-a634-81837e87c2c4      이정선   \n",
       "3  5873fc17-416a-4bae-b906-d62703f65ca3     블루스타   \n",
       "4  bcff2042-f0b7-4097-a15d-d7117b4a6372       명훈   \n",
       "\n",
       "                                           userImage  \\\n",
       "0  https://play-lh.googleusercontent.com/a/AEdFTp...   \n",
       "1  https://play-lh.googleusercontent.com/a/AEdFTp...   \n",
       "2  https://play-lh.googleusercontent.com/a/AEdFTp...   \n",
       "3  https://play-lh.googleusercontent.com/a-/AD5-W...   \n",
       "4  https://play-lh.googleusercontent.com/a/AEdFTp...   \n",
       "\n",
       "                                             content  score  thumbsUpCount  \\\n",
       "0  제가 04년생이라 이제 막 성인이 되었는데 미성년자라고 가입이 안된다네요 어떻게 된...      2              0   \n",
       "1                                              너무조아요      5              0   \n",
       "2                           18181818 10 3 노가다 보다 힘들다      1              7   \n",
       "3  2500원은 너무한거 아니냐고.. 하루에 4만원 벌려고 하루종일일했네 진짜 너무하다...      1              0   \n",
       "4     콜을 수락 할 수 없게 버그가 엄청 심하네요 첫 배달 점심피크 겨우 2개하고 퇴근.      1              1   \n",
       "\n",
       "  reviewCreatedVersion                  at  \\\n",
       "0               2.0.20 2023-01-02 13:34:38   \n",
       "1               1.1.27 2023-01-02 10:54:40   \n",
       "2               2.0.20 2023-01-01 21:43:11   \n",
       "3               2.0.20 2023-01-01 10:15:46   \n",
       "4               2.0.20 2022-12-31 09:00:10   \n",
       "\n",
       "                                        replyContent           repliedAt  \n",
       "0  안녕하세요, 쿠팡이츠 입니다.\\n\\n쿠팡이츠 이용에 불편이 있으셨다면 사과 말씀드립... 2023-01-02 16:31:44  \n",
       "1                                               None                 NaT  \n",
       "2                                               None                 NaT  \n",
       "3                                               None                 NaT  \n",
       "4  안녕하세요, 쿠팡이츠 입니다.\\n\\n먼저 쿠팡이츠 배달파트너 APP을 이용하시는 과... 2023-01-02 11:38:04  "
      ]
     },
     "execution_count": 81,
     "metadata": {},
     "output_type": "execute_result"
    }
   ],
   "source": [
    "df.head()"
   ]
  },
  {
   "cell_type": "code",
   "execution_count": 82,
   "id": "9ea534df",
   "metadata": {},
   "outputs": [
    {
     "data": {
      "text/plain": [
       "5710"
      ]
     },
     "execution_count": 82,
     "metadata": {},
     "output_type": "execute_result"
    }
   ],
   "source": [
    "len(df)"
   ]
  },
  {
   "cell_type": "code",
   "execution_count": 83,
   "id": "43a4f229",
   "metadata": {},
   "outputs": [],
   "source": [
    "df.to_csv(output_filename+'.csv')"
   ]
  },
  {
   "cell_type": "code",
   "execution_count": null,
   "id": "b9660d64",
   "metadata": {},
   "outputs": [],
   "source": []
  }
 ],
 "metadata": {
  "kernelspec": {
   "display_name": "Python 3 (ipykernel)",
   "language": "python",
   "name": "python3"
  },
  "language_info": {
   "codemirror_mode": {
    "name": "ipython",
    "version": 3
   },
   "file_extension": ".py",
   "mimetype": "text/x-python",
   "name": "python",
   "nbconvert_exporter": "python",
   "pygments_lexer": "ipython3",
   "version": "3.7.13"
  }
 },
 "nbformat": 4,
 "nbformat_minor": 5
}
