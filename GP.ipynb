{
 "cells": [
  {
   "cell_type": "code",
   "execution_count": 67,
   "id": "51774ba2",
   "metadata": {},
   "outputs": [],
   "source": [
    "# 원하는 앱 선택\n",
    "lang='ko' #'en'\n",
    "cont='kr'#'kr'\n",
    "loc =  'com.coupang.mobile.eats' #'com.coupang.mobile.eats.courier' #'com.hogangnono.hogangnono' #'kr.co.koreachart.city' #'com.chbreeze.jikbang4a' #'kr.co.twinspace'\n",
    "\n",
    "output_filename = 'coupang_eats_ko_kr'"
   ]
  },
  {
   "cell_type": "code",
   "execution_count": null,
   "id": "97ebc014",
   "metadata": {},
   "outputs": [],
   "source": []
  },
  {
   "cell_type": "code",
   "execution_count": 68,
   "id": "27d1f064",
   "metadata": {},
   "outputs": [],
   "source": [
    "# BeautifulSoup을 이용한 Google PlayStore 앱 소개 페이지 HTML 파싱 함수\n",
    "import requests\n",
    "from bs4 import BeautifulSoup\n",
    "\n",
    "def crawler(lang, cont, loc):\n",
    "    url = 'https://play.google.com/store/apps/details?id='+loc+'&hl='+lang+'&gl='+cont\n",
    "    print(url)\n",
    "    response = requests.get(url)\n",
    "    soup = BeautifulSoup(response.text, 'html.parser')\n",
    "    return (soup)"
   ]
  },
  {
   "cell_type": "markdown",
   "id": "6e60906a",
   "metadata": {},
   "source": [
    "https://play.google.com/store/apps/details?id=kr.co.welcomebank.omb&hl=ko&gl=US&showAllReviews=true"
   ]
  },
  {
   "cell_type": "code",
   "execution_count": 69,
   "id": "0af49d1c",
   "metadata": {},
   "outputs": [
    {
     "name": "stdout",
     "output_type": "stream",
     "text": [
      "CPU times: user 3.27 s, sys: 728 ms, total: 4 s\n",
      "Wall time: 1min 14s\n"
     ]
    }
   ],
   "source": [
    "%%time \n",
    "from google_play_scraper import Sort, reviews_all\n",
    "\n",
    "result = reviews_all(\n",
    "    loc,\n",
    "    lang=lang, # defaults to 'en'\n",
    "    country=cont, # defaults to 'us'\n",
    "    sort=Sort.NEWEST, # defaults to Sort.MOST_RELEVANT\n",
    "    filter_score_with= None#5 # defaults to None(means all score)\n",
    ")"
   ]
  },
  {
   "cell_type": "markdown",
   "id": "d06ee2ca",
   "metadata": {},
   "source": [
    "# \n",
    "#! pip install google_play_scraper\n",
    "from google_play_scraper import reviews,  Sort\n",
    "\n",
    "review_all, _ = reviews(\n",
    "    loc,\n",
    "    lang=lang, # defaults to 'en'\n",
    "    country=cont, # defaults to 'us'\n",
    "    sort=Sort.NEWEST, # defaults to Sort.MOST_RELEVANT\n",
    "    #count=3, # defaults to 100\n",
    "    filter_score_with=None # defaults to None(means all score)\n",
    ")\n",
    "review = str(len(review_all))"
   ]
  },
  {
   "cell_type": "markdown",
   "id": "bfb73083",
   "metadata": {},
   "source": [
    "# 필요한 정보만 선별 및 조건에 따른 액션 수행\n",
    "\n",
    "soup = crawler(lang, cont, loc)\n",
    "ratings = soup.find('span','EymY4b').text\n",
    "average = soup.findAll('div', 'BHMmbe')[0].string\n",
    "\n",
    "msg =  \"[Google Play store] 평점 : \"+ average + \" / 평가개수 : \"+ ratings + \" / 리뷰개수 : \"+ review\n",
    "myTeamsMessage.text(msg)\n",
    "myTeamsMessage.send()\n",
    "\n",
    "for i in range(0,len(review_all)):\n",
    "    if review_all[i]['replyContent'] != None:\n",
    "        pass\n",
    "    else:\n",
    "        score = str(review_all[i]['score'])\n",
    "        userid = review_all[i]['userName']\n",
    "        time = review_all[i]['at'].strftime(\"%Y/%m/%d %H:%M\")\n",
    "        content = review_all[i]['content']\n",
    "        alarm = \"[Google Play store] 개발자 답글이 필요한 리뷰가 추가되었습니다. / 점수 : \"+score+\" / 아이디 : \"+userid+\" / 시간 : \"+time+\" / 내용 : \"+contents\n",
    "        myTeamsMessage.text(alarm)\n",
    "        myTeamsMessage.send()"
   ]
  },
  {
   "cell_type": "code",
   "execution_count": 70,
   "id": "3f0ca355",
   "metadata": {},
   "outputs": [],
   "source": [
    "import pandas as pd\n",
    "df = pd.DataFrame(result)\n"
   ]
  },
  {
   "cell_type": "code",
   "execution_count": 71,
   "id": "dc03d0a5",
   "metadata": {},
   "outputs": [
    {
     "data": {
      "text/html": [
       "<div>\n",
       "<style scoped>\n",
       "    .dataframe tbody tr th:only-of-type {\n",
       "        vertical-align: middle;\n",
       "    }\n",
       "\n",
       "    .dataframe tbody tr th {\n",
       "        vertical-align: top;\n",
       "    }\n",
       "\n",
       "    .dataframe thead th {\n",
       "        text-align: right;\n",
       "    }\n",
       "</style>\n",
       "<table border=\"1\" class=\"dataframe\">\n",
       "  <thead>\n",
       "    <tr style=\"text-align: right;\">\n",
       "      <th></th>\n",
       "      <th>reviewId</th>\n",
       "      <th>userName</th>\n",
       "      <th>userImage</th>\n",
       "      <th>content</th>\n",
       "      <th>score</th>\n",
       "      <th>thumbsUpCount</th>\n",
       "      <th>reviewCreatedVersion</th>\n",
       "      <th>at</th>\n",
       "      <th>replyContent</th>\n",
       "      <th>repliedAt</th>\n",
       "    </tr>\n",
       "  </thead>\n",
       "  <tbody>\n",
       "    <tr>\n",
       "      <th>0</th>\n",
       "      <td>891c64ac-65d3-4195-9fe3-aff249992735</td>\n",
       "      <td>VLOG마상</td>\n",
       "      <td>https://play-lh.googleusercontent.com/a-/AD5-W...</td>\n",
       "      <td>배달기사가 없다고 배달이 19분에서 37분이 지연됨 ㅋㅋㅋ 갈수록 배달지연이 계속됨</td>\n",
       "      <td>2</td>\n",
       "      <td>0</td>\n",
       "      <td>1.3.79</td>\n",
       "      <td>2023-01-02 21:06:18</td>\n",
       "      <td>안녕하세요, 쿠팡이츠 입니다.\\n\\n고객님께서는 쿠팡이츠를 이용하시며 맛있는 음식이...</td>\n",
       "      <td>2023-01-03 09:53:47</td>\n",
       "    </tr>\n",
       "    <tr>\n",
       "      <th>1</th>\n",
       "      <td>86d723e5-beb0-4b2c-ac9e-3d0bdfdb7422</td>\n",
       "      <td>이니는풍산개다</td>\n",
       "      <td>https://play-lh.googleusercontent.com/a-/AD5-W...</td>\n",
       "      <td>배딜료가 넘비싸</td>\n",
       "      <td>3</td>\n",
       "      <td>0</td>\n",
       "      <td>1.3.79</td>\n",
       "      <td>2023-01-02 20:51:38</td>\n",
       "      <td>안녕하세요, 쿠팡이츠 입니다.\\n\\n먼저, 쿠팡이츠를 이용해 주시는 과정에 배달비로...</td>\n",
       "      <td>2023-01-03 09:52:26</td>\n",
       "    </tr>\n",
       "    <tr>\n",
       "      <th>2</th>\n",
       "      <td>28870510-8c42-471f-a599-853660a54848</td>\n",
       "      <td>Euna</td>\n",
       "      <td>https://play-lh.googleusercontent.com/a/AEdFTp...</td>\n",
       "      <td>시의 경계에 살고 있는데 다른 시의 업체들이 거리상 가까우니 목록에 뜨는데 다른 시...</td>\n",
       "      <td>2</td>\n",
       "      <td>0</td>\n",
       "      <td>1.3.79</td>\n",
       "      <td>2023-01-02 18:29:54</td>\n",
       "      <td>안녕하세요, 쿠팡이츠 입니다.\\n\\n먼저 쿠팡이츠 APP을 이용하시는 과정에 불편을...</td>\n",
       "      <td>2023-01-03 09:44:18</td>\n",
       "    </tr>\n",
       "    <tr>\n",
       "      <th>3</th>\n",
       "      <td>9064b57a-740b-41de-b56d-660092b75cad</td>\n",
       "      <td>이제덕</td>\n",
       "      <td>https://play-lh.googleusercontent.com/a/AEdFTp...</td>\n",
       "      <td>사용하는데 편리하고 좋네요</td>\n",
       "      <td>4</td>\n",
       "      <td>0</td>\n",
       "      <td>1.3.79</td>\n",
       "      <td>2023-01-02 17:30:13</td>\n",
       "      <td>안녕하세요, 쿠팡이츠 입니다.\\n\\n쿠팡이츠는 한층 더 강화된 서비스를 제공하며, ...</td>\n",
       "      <td>2023-01-02 18:14:54</td>\n",
       "    </tr>\n",
       "    <tr>\n",
       "      <th>4</th>\n",
       "      <td>e8813cb7-b013-425f-be95-d9c88242eea4</td>\n",
       "      <td>연상소</td>\n",
       "      <td>https://play-lh.googleusercontent.com/a/AEdFTp...</td>\n",
       "      <td>메뉴 보기가 편함</td>\n",
       "      <td>4</td>\n",
       "      <td>0</td>\n",
       "      <td>1.3.79</td>\n",
       "      <td>2023-01-02 16:01:41</td>\n",
       "      <td>안녕하세요, 쿠팡이츠 입니다.\\n\\n쿠팡이츠는 한 집 배달을 원칙으로 한층 더 강화...</td>\n",
       "      <td>2023-01-02 16:34:22</td>\n",
       "    </tr>\n",
       "  </tbody>\n",
       "</table>\n",
       "</div>"
      ],
      "text/plain": [
       "                               reviewId userName  \\\n",
       "0  891c64ac-65d3-4195-9fe3-aff249992735   VLOG마상   \n",
       "1  86d723e5-beb0-4b2c-ac9e-3d0bdfdb7422  이니는풍산개다   \n",
       "2  28870510-8c42-471f-a599-853660a54848     Euna   \n",
       "3  9064b57a-740b-41de-b56d-660092b75cad      이제덕   \n",
       "4  e8813cb7-b013-425f-be95-d9c88242eea4      연상소   \n",
       "\n",
       "                                           userImage  \\\n",
       "0  https://play-lh.googleusercontent.com/a-/AD5-W...   \n",
       "1  https://play-lh.googleusercontent.com/a-/AD5-W...   \n",
       "2  https://play-lh.googleusercontent.com/a/AEdFTp...   \n",
       "3  https://play-lh.googleusercontent.com/a/AEdFTp...   \n",
       "4  https://play-lh.googleusercontent.com/a/AEdFTp...   \n",
       "\n",
       "                                             content  score  thumbsUpCount  \\\n",
       "0     배달기사가 없다고 배달이 19분에서 37분이 지연됨 ㅋㅋㅋ 갈수록 배달지연이 계속됨      2              0   \n",
       "1                                           배딜료가 넘비싸      3              0   \n",
       "2  시의 경계에 살고 있는데 다른 시의 업체들이 거리상 가까우니 목록에 뜨는데 다른 시...      2              0   \n",
       "3                                     사용하는데 편리하고 좋네요      4              0   \n",
       "4                                          메뉴 보기가 편함      4              0   \n",
       "\n",
       "  reviewCreatedVersion                  at  \\\n",
       "0               1.3.79 2023-01-02 21:06:18   \n",
       "1               1.3.79 2023-01-02 20:51:38   \n",
       "2               1.3.79 2023-01-02 18:29:54   \n",
       "3               1.3.79 2023-01-02 17:30:13   \n",
       "4               1.3.79 2023-01-02 16:01:41   \n",
       "\n",
       "                                        replyContent           repliedAt  \n",
       "0  안녕하세요, 쿠팡이츠 입니다.\\n\\n고객님께서는 쿠팡이츠를 이용하시며 맛있는 음식이... 2023-01-03 09:53:47  \n",
       "1  안녕하세요, 쿠팡이츠 입니다.\\n\\n먼저, 쿠팡이츠를 이용해 주시는 과정에 배달비로... 2023-01-03 09:52:26  \n",
       "2  안녕하세요, 쿠팡이츠 입니다.\\n\\n먼저 쿠팡이츠 APP을 이용하시는 과정에 불편을... 2023-01-03 09:44:18  \n",
       "3  안녕하세요, 쿠팡이츠 입니다.\\n\\n쿠팡이츠는 한층 더 강화된 서비스를 제공하며, ... 2023-01-02 18:14:54  \n",
       "4  안녕하세요, 쿠팡이츠 입니다.\\n\\n쿠팡이츠는 한 집 배달을 원칙으로 한층 더 강화... 2023-01-02 16:34:22  "
      ]
     },
     "execution_count": 71,
     "metadata": {},
     "output_type": "execute_result"
    }
   ],
   "source": [
    "df.head()"
   ]
  },
  {
   "cell_type": "code",
   "execution_count": 74,
   "id": "9ea534df",
   "metadata": {},
   "outputs": [
    {
     "data": {
      "text/plain": [
       "26799"
      ]
     },
     "execution_count": 74,
     "metadata": {},
     "output_type": "execute_result"
    }
   ],
   "source": [
    "len(df)"
   ]
  },
  {
   "cell_type": "code",
   "execution_count": 75,
   "id": "43a4f229",
   "metadata": {},
   "outputs": [],
   "source": [
    "df.to_csv(output_filename+'.csv')"
   ]
  },
  {
   "cell_type": "code",
   "execution_count": null,
   "id": "b9660d64",
   "metadata": {},
   "outputs": [],
   "source": []
  }
 ],
 "metadata": {
  "kernelspec": {
   "display_name": "Python 3 (ipykernel)",
   "language": "python",
   "name": "python3"
  },
  "language_info": {
   "codemirror_mode": {
    "name": "ipython",
    "version": 3
   },
   "file_extension": ".py",
   "mimetype": "text/x-python",
   "name": "python",
   "nbconvert_exporter": "python",
   "pygments_lexer": "ipython3",
   "version": "3.7.13"
  }
 },
 "nbformat": 4,
 "nbformat_minor": 5
}
